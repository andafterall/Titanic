{
 "cells": [
  {
   "cell_type": "code",
   "execution_count": 1,
   "metadata": {},
   "outputs": [],
   "source": [
    "import numpy as np\n",
    "import pandas as pd\n",
    "import matplotlib.pyplot as plt\n",
    "import seaborn as sns\n",
    "%matplotlib inline\n",
    "\n",
    "from collections import Counter\n",
    "\n",
    "from sklearn.ensemble import RandomForestClassifier, AdaBoostClassifier, GradientBoostingClassifier, ExtraTreesClassifier, VotingClassifier\n",
    "from sklearn.discriminant_analysis import LinearDiscriminantAnalysis\n",
    "from sklearn.linear_model import LogisticRegression\n",
    "from sklearn.neighbors import KNeighborsClassifier\n",
    "from sklearn.tree import DecisionTreeClassifier\n",
    "from sklearn.neural_network import MLPClassifier\n",
    "from sklearn.svm import SVC\n",
    "from sklearn.model_selection import GridSearchCV, cross_val_score, StratifiedKFold, learning_curve\n",
    "\n",
    "sns.set(style='white', context='notebook', palette='deep')"
   ]
  },
  {
   "cell_type": "markdown",
   "metadata": {},
   "source": [
    "# 读取数据"
   ]
  },
  {
   "cell_type": "code",
   "execution_count": 2,
   "metadata": {},
   "outputs": [
    {
     "name": "stdout",
     "output_type": "stream",
     "text": [
      "train:  (891, 12)\n",
      "test:  (418, 11)\n"
     ]
    }
   ],
   "source": [
    "train = pd.read_csv(\"../input/train.csv\")\n",
    "test = pd.read_csv(\"../input/test.csv\")\n",
    "IDtest = test[\"PassengerId\"]\n",
    "\n",
    "print(\"train: \", train.shape)\n",
    "print(\"test: \", test.shape)"
   ]
  },
  {
   "cell_type": "markdown",
   "metadata": {},
   "source": [
    "# 数据校验"
   ]
  },
  {
   "cell_type": "code",
   "execution_count": 3,
   "metadata": {},
   "outputs": [
    {
     "name": "stderr",
     "output_type": "stream",
     "text": [
      "/home/leon/.conda/envs/test_env/lib/python3.6/site-packages/numpy/lib/function_base.py:3826: RuntimeWarning: Invalid value encountered in percentile\n",
      "  interpolation=interpolation)\n"
     ]
    }
   ],
   "source": [
    "# 此函数用于寻找极端数值\n",
    "def detect_outliers(df,n,features):\n",
    "    \"\"\"\n",
    "    Takes a dataframe df of features and returns a list of the indices\n",
    "    corresponding to the observations containing more than n outliers according\n",
    "    to the Tukey method.\n",
    "    \"\"\"\n",
    "    outlier_indices = []\n",
    "    \n",
    "    # iterate over features(columns)\n",
    "    for col in features:\n",
    "        # 1st quartile (25%)\n",
    "        Q1 = np.percentile(df[col], 25)\n",
    "        # 3rd quartile (75%)\n",
    "        Q3 = np.percentile(df[col],75)\n",
    "        # Interquartile range (IQR)\n",
    "        IQR = Q3 - Q1\n",
    "        \n",
    "        # outlier step\n",
    "        outlier_step = 1.5 * IQR\n",
    "        \n",
    "        # Determine a list of indices of outliers for feature col\n",
    "        outlier_list_col = df[(df[col] < Q1 - outlier_step) | (df[col] > Q3 + outlier_step )].index\n",
    "        \n",
    "        # append the found outlier indices for col to the list of outlier indices \n",
    "        outlier_indices.extend(outlier_list_col)\n",
    "        \n",
    "    # select observations containing more than 2 outliers\n",
    "    outlier_indices = Counter(outlier_indices)        \n",
    "    multiple_outliers = list( k for k, v in outlier_indices.items() if v > n )\n",
    "    \n",
    "    return multiple_outliers   \n",
    "\n",
    "# detect outliers from Age, SibSp , Parch and Fare\n",
    "Outliers_to_drop = detect_outliers(train,2,[\"Age\",\"SibSp\",\"Parch\",\"Fare\"])"
   ]
  },
  {
   "cell_type": "code",
   "execution_count": 4,
   "metadata": {},
   "outputs": [
    {
     "data": {
      "text/html": [
       "<div>\n",
       "<style scoped>\n",
       "    .dataframe tbody tr th:only-of-type {\n",
       "        vertical-align: middle;\n",
       "    }\n",
       "\n",
       "    .dataframe tbody tr th {\n",
       "        vertical-align: top;\n",
       "    }\n",
       "\n",
       "    .dataframe thead th {\n",
       "        text-align: right;\n",
       "    }\n",
       "</style>\n",
       "<table border=\"1\" class=\"dataframe\">\n",
       "  <thead>\n",
       "    <tr style=\"text-align: right;\">\n",
       "      <th></th>\n",
       "      <th>PassengerId</th>\n",
       "      <th>Survived</th>\n",
       "      <th>Pclass</th>\n",
       "      <th>Name</th>\n",
       "      <th>Sex</th>\n",
       "      <th>Age</th>\n",
       "      <th>SibSp</th>\n",
       "      <th>Parch</th>\n",
       "      <th>Ticket</th>\n",
       "      <th>Fare</th>\n",
       "      <th>Cabin</th>\n",
       "      <th>Embarked</th>\n",
       "    </tr>\n",
       "  </thead>\n",
       "  <tbody>\n",
       "    <tr>\n",
       "      <th>27</th>\n",
       "      <td>28</td>\n",
       "      <td>0</td>\n",
       "      <td>1</td>\n",
       "      <td>Fortune, Mr. Charles Alexander</td>\n",
       "      <td>male</td>\n",
       "      <td>19.0</td>\n",
       "      <td>3</td>\n",
       "      <td>2</td>\n",
       "      <td>19950</td>\n",
       "      <td>263.00</td>\n",
       "      <td>C23 C25 C27</td>\n",
       "      <td>S</td>\n",
       "    </tr>\n",
       "    <tr>\n",
       "      <th>88</th>\n",
       "      <td>89</td>\n",
       "      <td>1</td>\n",
       "      <td>1</td>\n",
       "      <td>Fortune, Miss. Mabel Helen</td>\n",
       "      <td>female</td>\n",
       "      <td>23.0</td>\n",
       "      <td>3</td>\n",
       "      <td>2</td>\n",
       "      <td>19950</td>\n",
       "      <td>263.00</td>\n",
       "      <td>C23 C25 C27</td>\n",
       "      <td>S</td>\n",
       "    </tr>\n",
       "    <tr>\n",
       "      <th>159</th>\n",
       "      <td>160</td>\n",
       "      <td>0</td>\n",
       "      <td>3</td>\n",
       "      <td>Sage, Master. Thomas Henry</td>\n",
       "      <td>male</td>\n",
       "      <td>NaN</td>\n",
       "      <td>8</td>\n",
       "      <td>2</td>\n",
       "      <td>CA. 2343</td>\n",
       "      <td>69.55</td>\n",
       "      <td>NaN</td>\n",
       "      <td>S</td>\n",
       "    </tr>\n",
       "    <tr>\n",
       "      <th>180</th>\n",
       "      <td>181</td>\n",
       "      <td>0</td>\n",
       "      <td>3</td>\n",
       "      <td>Sage, Miss. Constance Gladys</td>\n",
       "      <td>female</td>\n",
       "      <td>NaN</td>\n",
       "      <td>8</td>\n",
       "      <td>2</td>\n",
       "      <td>CA. 2343</td>\n",
       "      <td>69.55</td>\n",
       "      <td>NaN</td>\n",
       "      <td>S</td>\n",
       "    </tr>\n",
       "    <tr>\n",
       "      <th>201</th>\n",
       "      <td>202</td>\n",
       "      <td>0</td>\n",
       "      <td>3</td>\n",
       "      <td>Sage, Mr. Frederick</td>\n",
       "      <td>male</td>\n",
       "      <td>NaN</td>\n",
       "      <td>8</td>\n",
       "      <td>2</td>\n",
       "      <td>CA. 2343</td>\n",
       "      <td>69.55</td>\n",
       "      <td>NaN</td>\n",
       "      <td>S</td>\n",
       "    </tr>\n",
       "    <tr>\n",
       "      <th>324</th>\n",
       "      <td>325</td>\n",
       "      <td>0</td>\n",
       "      <td>3</td>\n",
       "      <td>Sage, Mr. George John Jr</td>\n",
       "      <td>male</td>\n",
       "      <td>NaN</td>\n",
       "      <td>8</td>\n",
       "      <td>2</td>\n",
       "      <td>CA. 2343</td>\n",
       "      <td>69.55</td>\n",
       "      <td>NaN</td>\n",
       "      <td>S</td>\n",
       "    </tr>\n",
       "    <tr>\n",
       "      <th>341</th>\n",
       "      <td>342</td>\n",
       "      <td>1</td>\n",
       "      <td>1</td>\n",
       "      <td>Fortune, Miss. Alice Elizabeth</td>\n",
       "      <td>female</td>\n",
       "      <td>24.0</td>\n",
       "      <td>3</td>\n",
       "      <td>2</td>\n",
       "      <td>19950</td>\n",
       "      <td>263.00</td>\n",
       "      <td>C23 C25 C27</td>\n",
       "      <td>S</td>\n",
       "    </tr>\n",
       "    <tr>\n",
       "      <th>792</th>\n",
       "      <td>793</td>\n",
       "      <td>0</td>\n",
       "      <td>3</td>\n",
       "      <td>Sage, Miss. Stella Anna</td>\n",
       "      <td>female</td>\n",
       "      <td>NaN</td>\n",
       "      <td>8</td>\n",
       "      <td>2</td>\n",
       "      <td>CA. 2343</td>\n",
       "      <td>69.55</td>\n",
       "      <td>NaN</td>\n",
       "      <td>S</td>\n",
       "    </tr>\n",
       "    <tr>\n",
       "      <th>846</th>\n",
       "      <td>847</td>\n",
       "      <td>0</td>\n",
       "      <td>3</td>\n",
       "      <td>Sage, Mr. Douglas Bullen</td>\n",
       "      <td>male</td>\n",
       "      <td>NaN</td>\n",
       "      <td>8</td>\n",
       "      <td>2</td>\n",
       "      <td>CA. 2343</td>\n",
       "      <td>69.55</td>\n",
       "      <td>NaN</td>\n",
       "      <td>S</td>\n",
       "    </tr>\n",
       "    <tr>\n",
       "      <th>863</th>\n",
       "      <td>864</td>\n",
       "      <td>0</td>\n",
       "      <td>3</td>\n",
       "      <td>Sage, Miss. Dorothy Edith \"Dolly\"</td>\n",
       "      <td>female</td>\n",
       "      <td>NaN</td>\n",
       "      <td>8</td>\n",
       "      <td>2</td>\n",
       "      <td>CA. 2343</td>\n",
       "      <td>69.55</td>\n",
       "      <td>NaN</td>\n",
       "      <td>S</td>\n",
       "    </tr>\n",
       "  </tbody>\n",
       "</table>\n",
       "</div>"
      ],
      "text/plain": [
       "     PassengerId  Survived  Pclass                               Name     Sex  \\\n",
       "27            28         0       1     Fortune, Mr. Charles Alexander    male   \n",
       "88            89         1       1         Fortune, Miss. Mabel Helen  female   \n",
       "159          160         0       3         Sage, Master. Thomas Henry    male   \n",
       "180          181         0       3       Sage, Miss. Constance Gladys  female   \n",
       "201          202         0       3                Sage, Mr. Frederick    male   \n",
       "324          325         0       3           Sage, Mr. George John Jr    male   \n",
       "341          342         1       1     Fortune, Miss. Alice Elizabeth  female   \n",
       "792          793         0       3            Sage, Miss. Stella Anna  female   \n",
       "846          847         0       3           Sage, Mr. Douglas Bullen    male   \n",
       "863          864         0       3  Sage, Miss. Dorothy Edith \"Dolly\"  female   \n",
       "\n",
       "      Age  SibSp  Parch    Ticket    Fare        Cabin Embarked  \n",
       "27   19.0      3      2     19950  263.00  C23 C25 C27        S  \n",
       "88   23.0      3      2     19950  263.00  C23 C25 C27        S  \n",
       "159   NaN      8      2  CA. 2343   69.55          NaN        S  \n",
       "180   NaN      8      2  CA. 2343   69.55          NaN        S  \n",
       "201   NaN      8      2  CA. 2343   69.55          NaN        S  \n",
       "324   NaN      8      2  CA. 2343   69.55          NaN        S  \n",
       "341  24.0      3      2     19950  263.00  C23 C25 C27        S  \n",
       "792   NaN      8      2  CA. 2343   69.55          NaN        S  \n",
       "846   NaN      8      2  CA. 2343   69.55          NaN        S  \n",
       "863   NaN      8      2  CA. 2343   69.55          NaN        S  "
      ]
     },
     "execution_count": 4,
     "metadata": {},
     "output_type": "execute_result"
    }
   ],
   "source": [
    "train.loc[Outliers_to_drop]"
   ]
  },
  {
   "cell_type": "code",
   "execution_count": 5,
   "metadata": {},
   "outputs": [
    {
     "name": "stdout",
     "output_type": "stream",
     "text": [
      "before:  (891, 12)\n",
      "after:  (881, 12)\n"
     ]
    }
   ],
   "source": [
    "print(\"before: \", train.shape)\n",
    "train = train.drop(Outliers_to_drop, axis = 0).reset_index(drop=True)\n",
    "print(\"after: \", train.shape)"
   ]
  },
  {
   "cell_type": "code",
   "execution_count": 6,
   "metadata": {},
   "outputs": [
    {
     "name": "stdout",
     "output_type": "stream",
     "text": [
      "dataset:  (1299, 12)\n"
     ]
    },
    {
     "name": "stderr",
     "output_type": "stream",
     "text": [
      "/home/leon/.conda/envs/test_env/lib/python3.6/site-packages/ipykernel_launcher.py:2: FutureWarning: Sorting because non-concatenation axis is not aligned. A future version\n",
      "of pandas will change to not sort by default.\n",
      "\n",
      "To accept the future behavior, pass 'sort=False'.\n",
      "\n",
      "To retain the current behavior and silence the warning, pass 'sort=True'.\n",
      "\n",
      "  \n"
     ]
    }
   ],
   "source": [
    "train_len = len(train)\n",
    "dataset =  pd.concat(objs=[train, test], axis=0).reset_index(drop=True)\n",
    "print(\"dataset: \", dataset.shape)"
   ]
  },
  {
   "cell_type": "code",
   "execution_count": 7,
   "metadata": {},
   "outputs": [
    {
     "data": {
      "text/plain": [
       "Age             256\n",
       "Cabin          1007\n",
       "Embarked          2\n",
       "Fare              1\n",
       "Name              0\n",
       "Parch             0\n",
       "PassengerId       0\n",
       "Pclass            0\n",
       "Sex               0\n",
       "SibSp             0\n",
       "Survived        418\n",
       "Ticket            0\n",
       "dtype: int64"
      ]
     },
     "execution_count": 7,
     "metadata": {},
     "output_type": "execute_result"
    }
   ],
   "source": [
    "dataset = dataset.fillna(np.nan)\n",
    "\n",
    "dataset.isnull().sum()"
   ]
  },
  {
   "cell_type": "code",
   "execution_count": 8,
   "metadata": {},
   "outputs": [
    {
     "name": "stdout",
     "output_type": "stream",
     "text": [
      "<class 'pandas.core.frame.DataFrame'>\n",
      "RangeIndex: 881 entries, 0 to 880\n",
      "Data columns (total 12 columns):\n",
      "PassengerId    881 non-null int64\n",
      "Survived       881 non-null int64\n",
      "Pclass         881 non-null int64\n",
      "Name           881 non-null object\n",
      "Sex            881 non-null object\n",
      "Age            711 non-null float64\n",
      "SibSp          881 non-null int64\n",
      "Parch          881 non-null int64\n",
      "Ticket         881 non-null object\n",
      "Fare           881 non-null float64\n",
      "Cabin          201 non-null object\n",
      "Embarked       879 non-null object\n",
      "dtypes: float64(2), int64(5), object(5)\n",
      "memory usage: 82.7+ KB\n"
     ]
    },
    {
     "data": {
      "text/plain": [
       "PassengerId      0\n",
       "Survived         0\n",
       "Pclass           0\n",
       "Name             0\n",
       "Sex              0\n",
       "Age            170\n",
       "SibSp            0\n",
       "Parch            0\n",
       "Ticket           0\n",
       "Fare             0\n",
       "Cabin          680\n",
       "Embarked         2\n",
       "dtype: int64"
      ]
     },
     "execution_count": 8,
     "metadata": {},
     "output_type": "execute_result"
    }
   ],
   "source": [
    "train.info()\n",
    "train.isnull().sum()"
   ]
  },
  {
   "cell_type": "code",
   "execution_count": 9,
   "metadata": {},
   "outputs": [
    {
     "data": {
      "text/html": [
       "<div>\n",
       "<style scoped>\n",
       "    .dataframe tbody tr th:only-of-type {\n",
       "        vertical-align: middle;\n",
       "    }\n",
       "\n",
       "    .dataframe tbody tr th {\n",
       "        vertical-align: top;\n",
       "    }\n",
       "\n",
       "    .dataframe thead th {\n",
       "        text-align: right;\n",
       "    }\n",
       "</style>\n",
       "<table border=\"1\" class=\"dataframe\">\n",
       "  <thead>\n",
       "    <tr style=\"text-align: right;\">\n",
       "      <th></th>\n",
       "      <th>PassengerId</th>\n",
       "      <th>Survived</th>\n",
       "      <th>Pclass</th>\n",
       "      <th>Name</th>\n",
       "      <th>Sex</th>\n",
       "      <th>Age</th>\n",
       "      <th>SibSp</th>\n",
       "      <th>Parch</th>\n",
       "      <th>Ticket</th>\n",
       "      <th>Fare</th>\n",
       "      <th>Cabin</th>\n",
       "      <th>Embarked</th>\n",
       "    </tr>\n",
       "  </thead>\n",
       "  <tbody>\n",
       "    <tr>\n",
       "      <th>0</th>\n",
       "      <td>1</td>\n",
       "      <td>0</td>\n",
       "      <td>3</td>\n",
       "      <td>Braund, Mr. Owen Harris</td>\n",
       "      <td>male</td>\n",
       "      <td>22.0</td>\n",
       "      <td>1</td>\n",
       "      <td>0</td>\n",
       "      <td>A/5 21171</td>\n",
       "      <td>7.2500</td>\n",
       "      <td>NaN</td>\n",
       "      <td>S</td>\n",
       "    </tr>\n",
       "    <tr>\n",
       "      <th>1</th>\n",
       "      <td>2</td>\n",
       "      <td>1</td>\n",
       "      <td>1</td>\n",
       "      <td>Cumings, Mrs. John Bradley (Florence Briggs Th...</td>\n",
       "      <td>female</td>\n",
       "      <td>38.0</td>\n",
       "      <td>1</td>\n",
       "      <td>0</td>\n",
       "      <td>PC 17599</td>\n",
       "      <td>71.2833</td>\n",
       "      <td>C85</td>\n",
       "      <td>C</td>\n",
       "    </tr>\n",
       "    <tr>\n",
       "      <th>2</th>\n",
       "      <td>3</td>\n",
       "      <td>1</td>\n",
       "      <td>3</td>\n",
       "      <td>Heikkinen, Miss. Laina</td>\n",
       "      <td>female</td>\n",
       "      <td>26.0</td>\n",
       "      <td>0</td>\n",
       "      <td>0</td>\n",
       "      <td>STON/O2. 3101282</td>\n",
       "      <td>7.9250</td>\n",
       "      <td>NaN</td>\n",
       "      <td>S</td>\n",
       "    </tr>\n",
       "    <tr>\n",
       "      <th>3</th>\n",
       "      <td>4</td>\n",
       "      <td>1</td>\n",
       "      <td>1</td>\n",
       "      <td>Futrelle, Mrs. Jacques Heath (Lily May Peel)</td>\n",
       "      <td>female</td>\n",
       "      <td>35.0</td>\n",
       "      <td>1</td>\n",
       "      <td>0</td>\n",
       "      <td>113803</td>\n",
       "      <td>53.1000</td>\n",
       "      <td>C123</td>\n",
       "      <td>S</td>\n",
       "    </tr>\n",
       "    <tr>\n",
       "      <th>4</th>\n",
       "      <td>5</td>\n",
       "      <td>0</td>\n",
       "      <td>3</td>\n",
       "      <td>Allen, Mr. William Henry</td>\n",
       "      <td>male</td>\n",
       "      <td>35.0</td>\n",
       "      <td>0</td>\n",
       "      <td>0</td>\n",
       "      <td>373450</td>\n",
       "      <td>8.0500</td>\n",
       "      <td>NaN</td>\n",
       "      <td>S</td>\n",
       "    </tr>\n",
       "  </tbody>\n",
       "</table>\n",
       "</div>"
      ],
      "text/plain": [
       "   PassengerId  Survived  Pclass  \\\n",
       "0            1         0       3   \n",
       "1            2         1       1   \n",
       "2            3         1       3   \n",
       "3            4         1       1   \n",
       "4            5         0       3   \n",
       "\n",
       "                                                Name     Sex   Age  SibSp  \\\n",
       "0                            Braund, Mr. Owen Harris    male  22.0      1   \n",
       "1  Cumings, Mrs. John Bradley (Florence Briggs Th...  female  38.0      1   \n",
       "2                             Heikkinen, Miss. Laina  female  26.0      0   \n",
       "3       Futrelle, Mrs. Jacques Heath (Lily May Peel)  female  35.0      1   \n",
       "4                           Allen, Mr. William Henry    male  35.0      0   \n",
       "\n",
       "   Parch            Ticket     Fare Cabin Embarked  \n",
       "0      0         A/5 21171   7.2500   NaN        S  \n",
       "1      0          PC 17599  71.2833   C85        C  \n",
       "2      0  STON/O2. 3101282   7.9250   NaN        S  \n",
       "3      0            113803  53.1000  C123        S  \n",
       "4      0            373450   8.0500   NaN        S  "
      ]
     },
     "execution_count": 9,
     "metadata": {},
     "output_type": "execute_result"
    }
   ],
   "source": [
    "train.head()"
   ]
  },
  {
   "cell_type": "code",
   "execution_count": 10,
   "metadata": {},
   "outputs": [
    {
     "data": {
      "text/plain": [
       "PassengerId      int64\n",
       "Survived         int64\n",
       "Pclass           int64\n",
       "Name            object\n",
       "Sex             object\n",
       "Age            float64\n",
       "SibSp            int64\n",
       "Parch            int64\n",
       "Ticket          object\n",
       "Fare           float64\n",
       "Cabin           object\n",
       "Embarked        object\n",
       "dtype: object"
      ]
     },
     "execution_count": 10,
     "metadata": {},
     "output_type": "execute_result"
    }
   ],
   "source": [
    "train.dtypes"
   ]
  },
  {
   "cell_type": "code",
   "execution_count": 11,
   "metadata": {},
   "outputs": [
    {
     "data": {
      "text/html": [
       "<div>\n",
       "<style scoped>\n",
       "    .dataframe tbody tr th:only-of-type {\n",
       "        vertical-align: middle;\n",
       "    }\n",
       "\n",
       "    .dataframe tbody tr th {\n",
       "        vertical-align: top;\n",
       "    }\n",
       "\n",
       "    .dataframe thead th {\n",
       "        text-align: right;\n",
       "    }\n",
       "</style>\n",
       "<table border=\"1\" class=\"dataframe\">\n",
       "  <thead>\n",
       "    <tr style=\"text-align: right;\">\n",
       "      <th></th>\n",
       "      <th>PassengerId</th>\n",
       "      <th>Survived</th>\n",
       "      <th>Pclass</th>\n",
       "      <th>Age</th>\n",
       "      <th>SibSp</th>\n",
       "      <th>Parch</th>\n",
       "      <th>Fare</th>\n",
       "    </tr>\n",
       "  </thead>\n",
       "  <tbody>\n",
       "    <tr>\n",
       "      <th>count</th>\n",
       "      <td>881.000000</td>\n",
       "      <td>881.000000</td>\n",
       "      <td>881.000000</td>\n",
       "      <td>711.000000</td>\n",
       "      <td>881.000000</td>\n",
       "      <td>881.000000</td>\n",
       "      <td>881.000000</td>\n",
       "    </tr>\n",
       "    <tr>\n",
       "      <th>mean</th>\n",
       "      <td>446.713961</td>\n",
       "      <td>0.385925</td>\n",
       "      <td>2.307605</td>\n",
       "      <td>29.731603</td>\n",
       "      <td>0.455165</td>\n",
       "      <td>0.363224</td>\n",
       "      <td>31.121566</td>\n",
       "    </tr>\n",
       "    <tr>\n",
       "      <th>std</th>\n",
       "      <td>256.617021</td>\n",
       "      <td>0.487090</td>\n",
       "      <td>0.835055</td>\n",
       "      <td>14.547835</td>\n",
       "      <td>0.871571</td>\n",
       "      <td>0.791839</td>\n",
       "      <td>47.996249</td>\n",
       "    </tr>\n",
       "    <tr>\n",
       "      <th>min</th>\n",
       "      <td>1.000000</td>\n",
       "      <td>0.000000</td>\n",
       "      <td>1.000000</td>\n",
       "      <td>0.420000</td>\n",
       "      <td>0.000000</td>\n",
       "      <td>0.000000</td>\n",
       "      <td>0.000000</td>\n",
       "    </tr>\n",
       "    <tr>\n",
       "      <th>25%</th>\n",
       "      <td>226.000000</td>\n",
       "      <td>0.000000</td>\n",
       "      <td>2.000000</td>\n",
       "      <td>20.250000</td>\n",
       "      <td>0.000000</td>\n",
       "      <td>0.000000</td>\n",
       "      <td>7.895800</td>\n",
       "    </tr>\n",
       "    <tr>\n",
       "      <th>50%</th>\n",
       "      <td>448.000000</td>\n",
       "      <td>0.000000</td>\n",
       "      <td>3.000000</td>\n",
       "      <td>28.000000</td>\n",
       "      <td>0.000000</td>\n",
       "      <td>0.000000</td>\n",
       "      <td>14.454200</td>\n",
       "    </tr>\n",
       "    <tr>\n",
       "      <th>75%</th>\n",
       "      <td>668.000000</td>\n",
       "      <td>1.000000</td>\n",
       "      <td>3.000000</td>\n",
       "      <td>38.000000</td>\n",
       "      <td>1.000000</td>\n",
       "      <td>0.000000</td>\n",
       "      <td>30.500000</td>\n",
       "    </tr>\n",
       "    <tr>\n",
       "      <th>max</th>\n",
       "      <td>891.000000</td>\n",
       "      <td>1.000000</td>\n",
       "      <td>3.000000</td>\n",
       "      <td>80.000000</td>\n",
       "      <td>5.000000</td>\n",
       "      <td>6.000000</td>\n",
       "      <td>512.329200</td>\n",
       "    </tr>\n",
       "  </tbody>\n",
       "</table>\n",
       "</div>"
      ],
      "text/plain": [
       "       PassengerId    Survived      Pclass         Age       SibSp  \\\n",
       "count   881.000000  881.000000  881.000000  711.000000  881.000000   \n",
       "mean    446.713961    0.385925    2.307605   29.731603    0.455165   \n",
       "std     256.617021    0.487090    0.835055   14.547835    0.871571   \n",
       "min       1.000000    0.000000    1.000000    0.420000    0.000000   \n",
       "25%     226.000000    0.000000    2.000000   20.250000    0.000000   \n",
       "50%     448.000000    0.000000    3.000000   28.000000    0.000000   \n",
       "75%     668.000000    1.000000    3.000000   38.000000    1.000000   \n",
       "max     891.000000    1.000000    3.000000   80.000000    5.000000   \n",
       "\n",
       "            Parch        Fare  \n",
       "count  881.000000  881.000000  \n",
       "mean     0.363224   31.121566  \n",
       "std      0.791839   47.996249  \n",
       "min      0.000000    0.000000  \n",
       "25%      0.000000    7.895800  \n",
       "50%      0.000000   14.454200  \n",
       "75%      0.000000   30.500000  \n",
       "max      6.000000  512.329200  "
      ]
     },
     "execution_count": 11,
     "metadata": {},
     "output_type": "execute_result"
    }
   ],
   "source": [
    "train.describe()"
   ]
  },
  {
   "cell_type": "markdown",
   "metadata": {},
   "source": [
    "# 特征分析"
   ]
  },
  {
   "cell_type": "markdown",
   "metadata": {},
   "source": [
    "### 数值型的特征"
   ]
  },
  {
   "cell_type": "code",
   "execution_count": 12,
   "metadata": {},
   "outputs": [
    {
     "data": {
      "image/png": "[encoded data removed]",
      "text/plain": [
       "<Figure size 432x288 with 2 Axes>"
      ]
     },
     "metadata": {
      "needs_background": "light"
     },
     "output_type": "display_data"
    }
   ],
   "source": [
    "g = sns.heatmap(train[[\"Survived\",\"SibSp\",\"Parch\",\"Age\",\"Fare\"]].corr(),annot=True, fmt = \".2f\", cmap = \"coolwarm\")"
   ]
  },
  {
   "cell_type": "code",
   "execution_count": 13,
   "metadata": {},
   "outputs": [
    {
     "data": {
      "image/png": "[encoded data removed]",
      "text/plain": [
       "<Figure size 432x432 with 1 Axes>"
      ]
     },
     "metadata": {
      "needs_background": "light"
     },
     "output_type": "display_data"
    }
   ],
   "source": [
    "g = sns.catplot(x=\"SibSp\", y=\"Survived\", data=train, kind=\"bar\", height=6 , palette = \"muted\")\n",
    "g.despine(left=True)\n",
    "g = g.set_ylabels(\"survival probability\")"
   ]
  },
  {
   "cell_type": "code",
   "execution_count": 14,
   "metadata": {},
   "outputs": [
    {
     "data": {
      "image/png": "[encoded data removed]",
      "text/plain": [
       "<Figure size 432x432 with 1 Axes>"
      ]
     },
     "metadata": {
      "needs_background": "light"
     },
     "output_type": "display_data"
    }
   ],
   "source": [
    "g = sns.catplot(x=\"Parch\", y=\"Survived\", data=train, kind=\"bar\", height=6 , palette = \"muted\")\n",
    "g.despine(left=True)\n",
    "g = g.set_ylabels(\"survival probability\")"
   ]
  },
  {
   "cell_type": "code",
   "execution_count": 15,
   "metadata": {},
   "outputs": [
    {
     "data": {
      "image/png": "[encoded data removed]",
      "text/plain": [
       "<Figure size 432x216 with 2 Axes>"
      ]
     },
     "metadata": {
      "needs_background": "light"
     },
     "output_type": "display_data"
    }
   ],
   "source": [
    "g = sns.FacetGrid(train, col='Survived')\n",
    "g = g.map(sns.distplot, \"Age\")"
   ]
  },
  {
   "cell_type": "code",
   "execution_count": 16,
   "metadata": {},
   "outputs": [
    {
     "data": {
      "image/png": "[encoded data removed]",
      "text/plain": [
       "<Figure size 432x288 with 1 Axes>"
      ]
     },
     "metadata": {
      "needs_background": "light"
     },
     "output_type": "display_data"
    }
   ],
   "source": [
    "g = sns.kdeplot(train[\"Age\"][(train[\"Survived\"] == 0) & (train[\"Age\"].notnull())], color=\"Red\", shade = True)\n",
    "g = sns.kdeplot(train[\"Age\"][(train[\"Survived\"] == 1) & (train[\"Age\"].notnull())], ax =g, color=\"Blue\", shade= True)\n",
    "g.set_xlabel(\"Age\")\n",
    "g.set_ylabel(\"Frequency\")\n",
    "g = g.legend([\"Not Survived\",\"Survived\"])"
   ]
  },
  {
   "cell_type": "code",
   "execution_count": 17,
   "metadata": {},
   "outputs": [
    {
     "data": {
      "text/plain": [
       "1"
      ]
     },
     "execution_count": 17,
     "metadata": {},
     "output_type": "execute_result"
    }
   ],
   "source": [
    "dataset[\"Fare\"].isnull().sum()"
   ]
  },
  {
   "cell_type": "code",
   "execution_count": 18,
   "metadata": {},
   "outputs": [],
   "source": [
    "dataset[\"Fare\"] = dataset[\"Fare\"].fillna(dataset[\"Fare\"].median())"
   ]
  },
  {
   "cell_type": "code",
   "execution_count": 19,
   "metadata": {},
   "outputs": [
    {
     "data": {
      "image/png": "[encoded data removed]",
      "text/plain": [
       "<Figure size 432x288 with 1 Axes>"
      ]
     },
     "metadata": {
      "needs_background": "light"
     },
     "output_type": "display_data"
    }
   ],
   "source": [
    "g = sns.distplot(dataset[\"Fare\"], color=\"m\", label=\"Skewness : %.2f\"%(dataset[\"Fare\"].skew()))\n",
    "g = g.legend(loc=\"best\")"
   ]
  },
  {
   "cell_type": "code",
   "execution_count": 20,
   "metadata": {},
   "outputs": [],
   "source": [
    "dataset[\"Fare\"] = dataset[\"Fare\"].map(lambda i: np.log(i) if i > 0 else 0)"
   ]
  },
  {
   "cell_type": "code",
   "execution_count": 21,
   "metadata": {},
   "outputs": [
    {
     "data": {
      "image/png": "[encoded data removed]",
      "text/plain": [
       "<Figure size 432x288 with 1 Axes>"
      ]
     },
     "metadata": {
      "needs_background": "light"
     },
     "output_type": "display_data"
    }
   ],
   "source": [
    "g = sns.distplot(dataset[\"Fare\"], color=\"b\", label=\"Skewness : %.2f\"%(dataset[\"Fare\"].skew()))\n",
    "g = g.legend(loc=\"best\")"
   ]
  },
  {
   "cell_type": "code",
   "execution_count": 22,
   "metadata": {},
   "outputs": [
    {
     "data": {
      "image/png": "[encoded data removed]",
      "text/plain": [
       "<Figure size 432x288 with 1 Axes>"
      ]
     },
     "metadata": {
      "needs_background": "light"
     },
     "output_type": "display_data"
    }
   ],
   "source": [
    "g = sns.barplot(x=\"Sex\",y=\"Survived\",data=train)\n",
    "g = g.set_ylabel(\"Survival Probability\")"
   ]
  },
  {
   "cell_type": "markdown",
   "metadata": {},
   "source": [
    "### 类别型的特征"
   ]
  },
  {
   "cell_type": "code",
   "execution_count": 23,
   "metadata": {},
   "outputs": [
    {
     "data": {
      "image/png": "[encoded data removed]",
      "text/plain": [
       "<Figure size 432x288 with 1 Axes>"
      ]
     },
     "metadata": {
      "needs_background": "light"
     },
     "output_type": "display_data"
    }
   ],
   "source": [
    "g = sns.barplot(x=\"Sex\",y=\"Survived\",data=train)\n",
    "g = g.set_ylabel(\"Survival Probability\")"
   ]
  },
  {
   "cell_type": "code",
   "execution_count": 24,
   "metadata": {},
   "outputs": [
    {
     "data": {
      "text/html": [
       "<div>\n",
       "<style scoped>\n",
       "    .dataframe tbody tr th:only-of-type {\n",
       "        vertical-align: middle;\n",
       "    }\n",
       "\n",
       "    .dataframe tbody tr th {\n",
       "        vertical-align: top;\n",
       "    }\n",
       "\n",
       "    .dataframe thead th {\n",
       "        text-align: right;\n",
       "    }\n",
       "</style>\n",
       "<table border=\"1\" class=\"dataframe\">\n",
       "  <thead>\n",
       "    <tr style=\"text-align: right;\">\n",
       "      <th></th>\n",
       "      <th>Survived</th>\n",
       "    </tr>\n",
       "    <tr>\n",
       "      <th>Sex</th>\n",
       "      <th></th>\n",
       "    </tr>\n",
       "  </thead>\n",
       "  <tbody>\n",
       "    <tr>\n",
       "      <th>female</th>\n",
       "      <td>0.747573</td>\n",
       "    </tr>\n",
       "    <tr>\n",
       "      <th>male</th>\n",
       "      <td>0.190559</td>\n",
       "    </tr>\n",
       "  </tbody>\n",
       "</table>\n",
       "</div>"
      ],
      "text/plain": [
       "        Survived\n",
       "Sex             \n",
       "female  0.747573\n",
       "male    0.190559"
      ]
     },
     "execution_count": 24,
     "metadata": {},
     "output_type": "execute_result"
    }
   ],
   "source": [
    "train[[\"Sex\",\"Survived\"]].groupby('Sex').mean()"
   ]
  },
  {
   "cell_type": "code",
   "execution_count": 25,
   "metadata": {},
   "outputs": [
    {
     "data": {
      "image/png": "[encoded data removed]",
      "text/plain": [
       "<Figure size 432x432 with 1 Axes>"
      ]
     },
     "metadata": {
      "needs_background": "light"
     },
     "output_type": "display_data"
    }
   ],
   "source": [
    "g = sns.catplot(x=\"Pclass\", y=\"Survived\", data=train, kind=\"bar\", height=6, palette = \"muted\")\n",
    "g.despine(left=True)\n",
    "g = g.set_ylabels(\"survival probability\")"
   ]
  },
  {
   "cell_type": "code",
   "execution_count": 26,
   "metadata": {},
   "outputs": [
    {
     "data": {
      "image/png": "[encoded data removed]",
      "text/plain": [
       "<Figure size 509.975x432 with 1 Axes>"
      ]
     },
     "metadata": {
      "needs_background": "light"
     },
     "output_type": "display_data"
    }
   ],
   "source": [
    "g = sns.catplot(x=\"Pclass\", y=\"Survived\", hue=\"Sex\", data=train, height=6, kind=\"bar\", palette=\"muted\")\n",
    "g.despine(left=True)\n",
    "g = g.set_ylabels(\"survival probability\")"
   ]
  },
  {
   "cell_type": "code",
   "execution_count": 27,
   "metadata": {},
   "outputs": [
    {
     "data": {
      "text/plain": [
       "2"
      ]
     },
     "execution_count": 27,
     "metadata": {},
     "output_type": "execute_result"
    }
   ],
   "source": [
    "dataset[\"Embarked\"].isnull().sum()"
   ]
  },
  {
   "cell_type": "code",
   "execution_count": 28,
   "metadata": {},
   "outputs": [],
   "source": [
    "dataset[\"Embarked\"] = dataset[\"Embarked\"].fillna(\"S\")"
   ]
  },
  {
   "cell_type": "code",
   "execution_count": 29,
   "metadata": {},
   "outputs": [
    {
     "data": {
      "image/png": "[encoded data removed]",
      "text/plain": [
       "<Figure size 432x432 with 1 Axes>"
      ]
     },
     "metadata": {
      "needs_background": "light"
     },
     "output_type": "display_data"
    }
   ],
   "source": [
    "g = sns.catplot(x=\"Embarked\", y=\"Survived\",  data=train, height=6, kind=\"bar\", palette=\"muted\")\n",
    "g.despine(left=True)\n",
    "g = g.set_ylabels(\"survival probability\")"
   ]
  },
  {
   "cell_type": "code",
   "execution_count": 30,
   "metadata": {},
   "outputs": [
    {
     "data": {
      "image/png": "[encoded data removed]",
      "text/plain": [
       "<Figure size 1296x432 with 3 Axes>"
      ]
     },
     "metadata": {
      "needs_background": "light"
     },
     "output_type": "display_data"
    }
   ],
   "source": [
    "g = sns.catplot(\"Pclass\", col=\"Embarked\",  data=train, height=6, kind=\"count\", palette=\"muted\")\n",
    "g.despine(left=True)\n",
    "g = g.set_ylabels(\"Count\")"
   ]
  },
  {
   "cell_type": "markdown",
   "metadata": {},
   "source": [
    "# 填充空值"
   ]
  },
  {
   "cell_type": "code",
   "execution_count": 31,
   "metadata": {},
   "outputs": [
    {
     "data": {
      "image/png": "[encoded data removed]",
      "text/plain": [
       "<Figure size 360x360 with 1 Axes>"
      ]
     },
     "metadata": {
      "needs_background": "light"
     },
     "output_type": "display_data"
    },
    {
     "data": {
      "image/png": "[encoded data removed]",
      "text/plain": [
       "<Figure size 406.6x360 with 1 Axes>"
      ]
     },
     "metadata": {
      "needs_background": "light"
     },
     "output_type": "display_data"
    },
    {
     "data": {
      "image/png": "[encoded data removed]",
      "text/plain": [
       "<Figure size 360x360 with 1 Axes>"
      ]
     },
     "metadata": {
      "needs_background": "light"
     },
     "output_type": "display_data"
    },
    {
     "data": {
      "image/png": "[encoded data removed]",
      "text/plain": [
       "<Figure size 360x360 with 1 Axes>"
      ]
     },
     "metadata": {
      "needs_background": "light"
     },
     "output_type": "display_data"
    }
   ],
   "source": [
    "g = sns.catplot(y=\"Age\",x=\"Sex\",data=dataset,kind=\"box\")\n",
    "g = sns.catplot(y=\"Age\",x=\"Sex\",hue=\"Pclass\", data=dataset,kind=\"box\")\n",
    "g = sns.catplot(y=\"Age\",x=\"Parch\", data=dataset,kind=\"box\")\n",
    "g = sns.catplot(y=\"Age\",x=\"SibSp\", data=dataset,kind=\"box\")"
   ]
  },
  {
   "cell_type": "code",
   "execution_count": 32,
   "metadata": {},
   "outputs": [],
   "source": [
    "dataset[\"Sex\"] = dataset[\"Sex\"].map({\"male\": 0, \"female\":1})"
   ]
  },
  {
   "cell_type": "code",
   "execution_count": 33,
   "metadata": {},
   "outputs": [
    {
     "data": {
      "image/png": "[encoded data removed]",
      "text/plain": [
       "<Figure size 432x288 with 2 Axes>"
      ]
     },
     "metadata": {
      "needs_background": "light"
     },
     "output_type": "display_data"
    }
   ],
   "source": [
    "g = sns.heatmap(dataset[[\"Age\",\"Sex\",\"SibSp\",\"Parch\",\"Pclass\"]].corr(),cmap=\"BrBG\",annot=True)"
   ]
  },
  {
   "cell_type": "code",
   "execution_count": 34,
   "metadata": {},
   "outputs": [
    {
     "name": "stderr",
     "output_type": "stream",
     "text": [
      "/home/leon/.conda/envs/test_env/lib/python3.6/site-packages/pandas/core/indexing.py:190: SettingWithCopyWarning: \n",
      "A value is trying to be set on a copy of a slice from a DataFrame\n",
      "\n",
      "See the caveats in the documentation: http://pandas.pydata.org/pandas-docs/stable/indexing.html#indexing-view-versus-copy\n",
      "  self._setitem_with_indexer(indexer, value)\n",
      "/home/leon/.conda/envs/test_env/lib/python3.6/site-packages/numpy/lib/nanfunctions.py:1076: RuntimeWarning: Mean of empty slice\n",
      "  return np.nanmean(a, axis, out=out, keepdims=keepdims)\n"
     ]
    }
   ],
   "source": [
    "index_NaN_age = list(dataset[\"Age\"][dataset[\"Age\"].isnull()].index)\n",
    "\n",
    "for i in index_NaN_age :\n",
    "    age_med = dataset[\"Age\"].median()\n",
    "    age_pred = dataset[\"Age\"][((dataset['SibSp'] == dataset.iloc[i][\"SibSp\"]) & (dataset['Parch'] == dataset.iloc[i][\"Parch\"]) & (dataset['Pclass'] == dataset.iloc[i][\"Pclass\"]))].median()\n",
    "    if not np.isnan(age_pred) :\n",
    "        dataset['Age'].iloc[i] = age_pred\n",
    "    else :\n",
    "        dataset['Age'].iloc[i] = age_med"
   ]
  },
  {
   "cell_type": "code",
   "execution_count": 35,
   "metadata": {},
   "outputs": [
    {
     "data": {
      "image/png": "[encoded data removed]",
      "text/plain": [
       "<Figure size 360x360 with 1 Axes>"
      ]
     },
     "metadata": {
      "needs_background": "light"
     },
     "output_type": "display_data"
    },
    {
     "data": {
      "image/png": "[encoded data removed]",
      "text/plain": [
       "<Figure size 360x360 with 1 Axes>"
      ]
     },
     "metadata": {
      "needs_background": "light"
     },
     "output_type": "display_data"
    }
   ],
   "source": [
    "g = sns.catplot(x=\"Survived\", y = \"Age\",data = train, kind=\"box\")\n",
    "g = sns.catplot(x=\"Survived\", y = \"Age\",data = train, kind=\"violin\")"
   ]
  },
  {
   "cell_type": "markdown",
   "metadata": {},
   "source": [
    "# 特征工程"
   ]
  },
  {
   "cell_type": "code",
   "execution_count": 36,
   "metadata": {},
   "outputs": [
    {
     "data": {
      "text/plain": [
       "0                              Braund, Mr. Owen Harris\n",
       "1    Cumings, Mrs. John Bradley (Florence Briggs Th...\n",
       "2                               Heikkinen, Miss. Laina\n",
       "3         Futrelle, Mrs. Jacques Heath (Lily May Peel)\n",
       "4                             Allen, Mr. William Henry\n",
       "Name: Name, dtype: object"
      ]
     },
     "execution_count": 36,
     "metadata": {},
     "output_type": "execute_result"
    }
   ],
   "source": [
    "dataset[\"Name\"].head()"
   ]
  },
  {
   "cell_type": "code",
   "execution_count": 37,
   "metadata": {},
   "outputs": [
    {
     "data": {
      "text/plain": [
       "0      Mr\n",
       "1     Mrs\n",
       "2    Miss\n",
       "3     Mrs\n",
       "4      Mr\n",
       "Name: Title, dtype: object"
      ]
     },
     "execution_count": 37,
     "metadata": {},
     "output_type": "execute_result"
    }
   ],
   "source": [
    "dataset_title = [i.split(\",\")[1].split(\".\")[0].strip() for i in dataset[\"Name\"]]\n",
    "dataset[\"Title\"] = pd.Series(dataset_title)\n",
    "dataset[\"Title\"].head()"
   ]
  },
  {
   "cell_type": "code",
   "execution_count": 38,
   "metadata": {},
   "outputs": [
    {
     "data": {
      "image/png": "[encoded data removed]",
      "text/plain": [
       "<Figure size 432x288 with 1 Axes>"
      ]
     },
     "metadata": {
      "needs_background": "light"
     },
     "output_type": "display_data"
    }
   ],
   "source": [
    "g = sns.countplot(x=\"Title\",data=dataset)\n",
    "g = plt.setp(g.get_xticklabels(), rotation=45) "
   ]
  },
  {
   "cell_type": "code",
   "execution_count": 39,
   "metadata": {},
   "outputs": [],
   "source": [
    "dataset[\"Title\"] = dataset[\"Title\"].replace(['Lady', 'the Countess','Countess','Capt', 'Col','Don', 'Dr', 'Major', 'Rev', 'Sir', 'Jonkheer', 'Dona'], 'Rare')\n",
    "dataset[\"Title\"] = dataset[\"Title\"].map({\"Master\":0, \"Miss\":1, \"Ms\" : 1 , \"Mme\":1, \"Mlle\":1, \"Mrs\":1, \"Mr\":2, \"Rare\":3})\n",
    "dataset[\"Title\"] = dataset[\"Title\"].astype(int)"
   ]
  },
  {
   "cell_type": "code",
   "execution_count": 40,
   "metadata": {},
   "outputs": [
    {
     "data": {
      "image/png": "[encoded data removed]",
      "text/plain": [
       "<Figure size 432x288 with 1 Axes>"
      ]
     },
     "metadata": {
      "needs_background": "light"
     },
     "output_type": "display_data"
    }
   ],
   "source": [
    "g = sns.countplot(dataset[\"Title\"])\n",
    "g = g.set_xticklabels([\"Master\",\"Miss/Ms/Mme/Mlle/Mrs\",\"Mr\",\"Rare\"])"
   ]
  },
  {
   "cell_type": "code",
   "execution_count": 41,
   "metadata": {},
   "outputs": [
    {
     "data": {
      "image/png": "[encoded data removed]",
      "text/plain": [
       "<Figure size 360x360 with 1 Axes>"
      ]
     },
     "metadata": {
      "needs_background": "light"
     },
     "output_type": "display_data"
    }
   ],
   "source": [
    "g = sns.catplot(x=\"Title\",y=\"Survived\",data=dataset,kind=\"bar\")\n",
    "g = g.set_xticklabels([\"Master\",\"Miss-Mrs\",\"Mr\",\"Rare\"])\n",
    "g = g.set_ylabels(\"survival probability\")"
   ]
  },
  {
   "cell_type": "code",
   "execution_count": 42,
   "metadata": {},
   "outputs": [],
   "source": [
    "dataset.drop(labels = [\"Name\"], axis = 1, inplace = True)"
   ]
  },
  {
   "cell_type": "code",
   "execution_count": 43,
   "metadata": {},
   "outputs": [],
   "source": [
    "dataset[\"Fsize\"] = dataset[\"SibSp\"] + dataset[\"Parch\"] + 1"
   ]
  },
  {
   "cell_type": "code",
   "execution_count": 44,
   "metadata": {},
   "outputs": [
    {
     "name": "stderr",
     "output_type": "stream",
     "text": [
      "/home/leon/.conda/envs/test_env/lib/python3.6/site-packages/seaborn/categorical.py:3666: UserWarning: The `factorplot` function has been renamed to `catplot`. The original name will be removed in a future release. Please update your code. Note that the default `kind` in `factorplot` (`'point'`) has changed `'strip'` in `catplot`.\n",
      "  warnings.warn(msg)\n"
     ]
    },
    {
     "data": {
      "image/png": "[encoded data removed]",
      "text/plain": [
       "<Figure size 360x360 with 1 Axes>"
      ]
     },
     "metadata": {
      "needs_background": "light"
     },
     "output_type": "display_data"
    }
   ],
   "source": [
    "g = sns.factorplot(x=\"Fsize\",y=\"Survived\",data = dataset)\n",
    "g = g.set_ylabels(\"Survival Probability\")"
   ]
  },
  {
   "cell_type": "code",
   "execution_count": 45,
   "metadata": {},
   "outputs": [],
   "source": [
    "dataset['Single'] = dataset['Fsize'].map(lambda s: 1 if s == 1 else 0)\n",
    "dataset['SmallF'] = dataset['Fsize'].map(lambda s: 1 if  s == 2  else 0)\n",
    "dataset['MedF'] = dataset['Fsize'].map(lambda s: 1 if 3 <= s <= 4 else 0)\n",
    "dataset['LargeF'] = dataset['Fsize'].map(lambda s: 1 if s >= 5 else 0)"
   ]
  },
  {
   "cell_type": "code",
   "execution_count": 46,
   "metadata": {},
   "outputs": [
    {
     "data": {
      "image/png": "[encoded data removed]",
      "text/plain": [
       "<Figure size 360x360 with 1 Axes>"
      ]
     },
     "metadata": {
      "needs_background": "light"
     },
     "output_type": "display_data"
    },
    {
     "data": {
      "image/png": "[encoded data removed]",
      "text/plain": [
       "<Figure size 360x360 with 1 Axes>"
      ]
     },
     "metadata": {
      "needs_background": "light"
     },
     "output_type": "display_data"
    },
    {
     "data": {
      "image/png": "[encoded data removed]",
      "text/plain": [
       "<Figure size 360x360 with 1 Axes>"
      ]
     },
     "metadata": {
      "needs_background": "light"
     },
     "output_type": "display_data"
    },
    {
     "data": {
      "image/png": "[encoded data removed]",
      "text/plain": [
       "<Figure size 360x360 with 1 Axes>"
      ]
     },
     "metadata": {
      "needs_background": "light"
     },
     "output_type": "display_data"
    }
   ],
   "source": [
    "g = sns.catplot(x=\"Single\",y=\"Survived\",data=dataset,kind=\"bar\")\n",
    "g = g.set_ylabels(\"Survival Probability\")\n",
    "g = sns.catplot(x=\"SmallF\",y=\"Survived\",data=dataset,kind=\"bar\")\n",
    "g = g.set_ylabels(\"Survival Probability\")\n",
    "g = sns.catplot(x=\"MedF\",y=\"Survived\",data=dataset,kind=\"bar\")\n",
    "g = g.set_ylabels(\"Survival Probability\")\n",
    "g = sns.catplot(x=\"LargeF\",y=\"Survived\",data=dataset,kind=\"bar\")\n",
    "g = g.set_ylabels(\"Survival Probability\")"
   ]
  },
  {
   "cell_type": "code",
   "execution_count": 47,
   "metadata": {},
   "outputs": [],
   "source": [
    "dataset = pd.get_dummies(dataset, columns = [\"Title\"])\n",
    "dataset = pd.get_dummies(dataset, columns = [\"Embarked\"], prefix=\"Em\")"
   ]
  },
  {
   "cell_type": "code",
   "execution_count": 48,
   "metadata": {},
   "outputs": [
    {
     "data": {
      "text/html": [
       "<div>\n",
       "<style scoped>\n",
       "    .dataframe tbody tr th:only-of-type {\n",
       "        vertical-align: middle;\n",
       "    }\n",
       "\n",
       "    .dataframe tbody tr th {\n",
       "        vertical-align: top;\n",
       "    }\n",
       "\n",
       "    .dataframe thead th {\n",
       "        text-align: right;\n",
       "    }\n",
       "</style>\n",
       "<table border=\"1\" class=\"dataframe\">\n",
       "  <thead>\n",
       "    <tr style=\"text-align: right;\">\n",
       "      <th></th>\n",
       "      <th>Age</th>\n",
       "      <th>Cabin</th>\n",
       "      <th>Fare</th>\n",
       "      <th>Parch</th>\n",
       "      <th>PassengerId</th>\n",
       "      <th>Pclass</th>\n",
       "      <th>Sex</th>\n",
       "      <th>SibSp</th>\n",
       "      <th>Survived</th>\n",
       "      <th>Ticket</th>\n",
       "      <th>...</th>\n",
       "      <th>SmallF</th>\n",
       "      <th>MedF</th>\n",
       "      <th>LargeF</th>\n",
       "      <th>Title_0</th>\n",
       "      <th>Title_1</th>\n",
       "      <th>Title_2</th>\n",
       "      <th>Title_3</th>\n",
       "      <th>Em_C</th>\n",
       "      <th>Em_Q</th>\n",
       "      <th>Em_S</th>\n",
       "    </tr>\n",
       "  </thead>\n",
       "  <tbody>\n",
       "    <tr>\n",
       "      <th>0</th>\n",
       "      <td>22.0</td>\n",
       "      <td>NaN</td>\n",
       "      <td>1.981001</td>\n",
       "      <td>0</td>\n",
       "      <td>1</td>\n",
       "      <td>3</td>\n",
       "      <td>0</td>\n",
       "      <td>1</td>\n",
       "      <td>0.0</td>\n",
       "      <td>A/5 21171</td>\n",
       "      <td>...</td>\n",
       "      <td>1</td>\n",
       "      <td>0</td>\n",
       "      <td>0</td>\n",
       "      <td>0</td>\n",
       "      <td>0</td>\n",
       "      <td>1</td>\n",
       "      <td>0</td>\n",
       "      <td>0</td>\n",
       "      <td>0</td>\n",
       "      <td>1</td>\n",
       "    </tr>\n",
       "    <tr>\n",
       "      <th>1</th>\n",
       "      <td>38.0</td>\n",
       "      <td>C85</td>\n",
       "      <td>4.266662</td>\n",
       "      <td>0</td>\n",
       "      <td>2</td>\n",
       "      <td>1</td>\n",
       "      <td>1</td>\n",
       "      <td>1</td>\n",
       "      <td>1.0</td>\n",
       "      <td>PC 17599</td>\n",
       "      <td>...</td>\n",
       "      <td>1</td>\n",
       "      <td>0</td>\n",
       "      <td>0</td>\n",
       "      <td>0</td>\n",
       "      <td>1</td>\n",
       "      <td>0</td>\n",
       "      <td>0</td>\n",
       "      <td>1</td>\n",
       "      <td>0</td>\n",
       "      <td>0</td>\n",
       "    </tr>\n",
       "    <tr>\n",
       "      <th>2</th>\n",
       "      <td>26.0</td>\n",
       "      <td>NaN</td>\n",
       "      <td>2.070022</td>\n",
       "      <td>0</td>\n",
       "      <td>3</td>\n",
       "      <td>3</td>\n",
       "      <td>1</td>\n",
       "      <td>0</td>\n",
       "      <td>1.0</td>\n",
       "      <td>STON/O2. 3101282</td>\n",
       "      <td>...</td>\n",
       "      <td>0</td>\n",
       "      <td>0</td>\n",
       "      <td>0</td>\n",
       "      <td>0</td>\n",
       "      <td>1</td>\n",
       "      <td>0</td>\n",
       "      <td>0</td>\n",
       "      <td>0</td>\n",
       "      <td>0</td>\n",
       "      <td>1</td>\n",
       "    </tr>\n",
       "    <tr>\n",
       "      <th>3</th>\n",
       "      <td>35.0</td>\n",
       "      <td>C123</td>\n",
       "      <td>3.972177</td>\n",
       "      <td>0</td>\n",
       "      <td>4</td>\n",
       "      <td>1</td>\n",
       "      <td>1</td>\n",
       "      <td>1</td>\n",
       "      <td>1.0</td>\n",
       "      <td>113803</td>\n",
       "      <td>...</td>\n",
       "      <td>1</td>\n",
       "      <td>0</td>\n",
       "      <td>0</td>\n",
       "      <td>0</td>\n",
       "      <td>1</td>\n",
       "      <td>0</td>\n",
       "      <td>0</td>\n",
       "      <td>0</td>\n",
       "      <td>0</td>\n",
       "      <td>1</td>\n",
       "    </tr>\n",
       "    <tr>\n",
       "      <th>4</th>\n",
       "      <td>35.0</td>\n",
       "      <td>NaN</td>\n",
       "      <td>2.085672</td>\n",
       "      <td>0</td>\n",
       "      <td>5</td>\n",
       "      <td>3</td>\n",
       "      <td>0</td>\n",
       "      <td>0</td>\n",
       "      <td>0.0</td>\n",
       "      <td>373450</td>\n",
       "      <td>...</td>\n",
       "      <td>0</td>\n",
       "      <td>0</td>\n",
       "      <td>0</td>\n",
       "      <td>0</td>\n",
       "      <td>0</td>\n",
       "      <td>1</td>\n",
       "      <td>0</td>\n",
       "      <td>0</td>\n",
       "      <td>0</td>\n",
       "      <td>1</td>\n",
       "    </tr>\n",
       "  </tbody>\n",
       "</table>\n",
       "<p>5 rows × 22 columns</p>\n",
       "</div>"
      ],
      "text/plain": [
       "    Age Cabin      Fare  Parch  PassengerId  Pclass  Sex  SibSp  Survived  \\\n",
       "0  22.0   NaN  1.981001      0            1       3    0      1       0.0   \n",
       "1  38.0   C85  4.266662      0            2       1    1      1       1.0   \n",
       "2  26.0   NaN  2.070022      0            3       3    1      0       1.0   \n",
       "3  35.0  C123  3.972177      0            4       1    1      1       1.0   \n",
       "4  35.0   NaN  2.085672      0            5       3    0      0       0.0   \n",
       "\n",
       "             Ticket  ...  SmallF  MedF  LargeF  Title_0  Title_1  Title_2  \\\n",
       "0         A/5 21171  ...       1     0       0        0        0        1   \n",
       "1          PC 17599  ...       1     0       0        0        1        0   \n",
       "2  STON/O2. 3101282  ...       0     0       0        0        1        0   \n",
       "3            113803  ...       1     0       0        0        1        0   \n",
       "4            373450  ...       0     0       0        0        0        1   \n",
       "\n",
       "   Title_3  Em_C  Em_Q  Em_S  \n",
       "0        0     0     0     1  \n",
       "1        0     1     0     0  \n",
       "2        0     0     0     1  \n",
       "3        0     0     0     1  \n",
       "4        0     0     0     1  \n",
       "\n",
       "[5 rows x 22 columns]"
      ]
     },
     "execution_count": 48,
     "metadata": {},
     "output_type": "execute_result"
    }
   ],
   "source": [
    "dataset.head()"
   ]
  },
  {
   "cell_type": "code",
   "execution_count": 49,
   "metadata": {},
   "outputs": [
    {
     "data": {
      "text/plain": [
       "0     NaN\n",
       "1     C85\n",
       "2     NaN\n",
       "3    C123\n",
       "4     NaN\n",
       "Name: Cabin, dtype: object"
      ]
     },
     "execution_count": 49,
     "metadata": {},
     "output_type": "execute_result"
    }
   ],
   "source": [
    "dataset[\"Cabin\"].head()"
   ]
  },
  {
   "cell_type": "code",
   "execution_count": 50,
   "metadata": {},
   "outputs": [
    {
     "data": {
      "text/plain": [
       "count     292\n",
       "unique    186\n",
       "top        G6\n",
       "freq        5\n",
       "Name: Cabin, dtype: object"
      ]
     },
     "execution_count": 50,
     "metadata": {},
     "output_type": "execute_result"
    }
   ],
   "source": [
    "dataset[\"Cabin\"].describe()"
   ]
  },
  {
   "cell_type": "code",
   "execution_count": 51,
   "metadata": {},
   "outputs": [
    {
     "data": {
      "text/plain": [
       "1007"
      ]
     },
     "execution_count": 51,
     "metadata": {},
     "output_type": "execute_result"
    }
   ],
   "source": [
    "dataset[\"Cabin\"].isnull().sum()"
   ]
  },
  {
   "cell_type": "code",
   "execution_count": 52,
   "metadata": {},
   "outputs": [
    {
     "data": {
      "text/plain": [
       "1      C85\n",
       "3     C123\n",
       "6      E46\n",
       "10      G6\n",
       "11    C103\n",
       "Name: Cabin, dtype: object"
      ]
     },
     "execution_count": 52,
     "metadata": {},
     "output_type": "execute_result"
    }
   ],
   "source": [
    "dataset[\"Cabin\"][dataset[\"Cabin\"].notnull()].head()"
   ]
  },
  {
   "cell_type": "code",
   "execution_count": 53,
   "metadata": {},
   "outputs": [],
   "source": [
    "dataset[\"Cabin\"] = pd.Series([i[0] if not pd.isnull(i) else 'X' for i in dataset['Cabin'] ])"
   ]
  },
  {
   "cell_type": "code",
   "execution_count": 54,
   "metadata": {},
   "outputs": [
    {
     "data": {
      "image/png": "[encoded data removed]",
      "text/plain": [
       "<Figure size 432x288 with 1 Axes>"
      ]
     },
     "metadata": {
      "needs_background": "light"
     },
     "output_type": "display_data"
    }
   ],
   "source": [
    "g = sns.countplot(dataset[\"Cabin\"],order=['A','B','C','D','E','F','G','T','X'])"
   ]
  },
  {
   "cell_type": "code",
   "execution_count": 55,
   "metadata": {},
   "outputs": [
    {
     "data": {
      "image/png": "[encoded data removed]",
      "text/plain": [
       "<Figure size 360x360 with 1 Axes>"
      ]
     },
     "metadata": {
      "needs_background": "light"
     },
     "output_type": "display_data"
    }
   ],
   "source": [
    "g = sns.catplot(y=\"Survived\",x=\"Cabin\",data=dataset,kind=\"bar\",order=['A','B','C','D','E','F','G','T','X'])\n",
    "g = g.set_ylabels(\"Survival Probability\")"
   ]
  },
  {
   "cell_type": "code",
   "execution_count": 56,
   "metadata": {},
   "outputs": [],
   "source": [
    "dataset = pd.get_dummies(dataset, columns = [\"Cabin\"],prefix=\"Cabin\")"
   ]
  },
  {
   "cell_type": "code",
   "execution_count": 57,
   "metadata": {},
   "outputs": [
    {
     "data": {
      "text/plain": [
       "0           A/5 21171\n",
       "1            PC 17599\n",
       "2    STON/O2. 3101282\n",
       "3              113803\n",
       "4              373450\n",
       "Name: Ticket, dtype: object"
      ]
     },
     "execution_count": 57,
     "metadata": {},
     "output_type": "execute_result"
    }
   ],
   "source": [
    "dataset[\"Ticket\"].head()"
   ]
  },
  {
   "cell_type": "code",
   "execution_count": 58,
   "metadata": {},
   "outputs": [
    {
     "data": {
      "text/plain": [
       "0        A5\n",
       "1        PC\n",
       "2    STONO2\n",
       "3         X\n",
       "4         X\n",
       "Name: Ticket, dtype: object"
      ]
     },
     "execution_count": 58,
     "metadata": {},
     "output_type": "execute_result"
    }
   ],
   "source": [
    "Ticket = []\n",
    "for i in list(dataset.Ticket):\n",
    "    if not i.isdigit() :\n",
    "        Ticket.append(i.replace(\".\",\"\").replace(\"/\",\"\").strip().split(' ')[0]) #Take prefix\n",
    "    else:\n",
    "        Ticket.append(\"X\")\n",
    "        \n",
    "dataset[\"Ticket\"] = Ticket\n",
    "dataset[\"Ticket\"].head()"
   ]
  },
  {
   "cell_type": "code",
   "execution_count": 59,
   "metadata": {},
   "outputs": [],
   "source": [
    "dataset = pd.get_dummies(dataset, columns = [\"Ticket\"], prefix=\"T\")"
   ]
  },
  {
   "cell_type": "code",
   "execution_count": 60,
   "metadata": {},
   "outputs": [],
   "source": [
    "dataset[\"Pclass\"] = dataset[\"Pclass\"].astype(\"category\")\n",
    "dataset = pd.get_dummies(dataset, columns = [\"Pclass\"],prefix=\"Pc\")"
   ]
  },
  {
   "cell_type": "code",
   "execution_count": 61,
   "metadata": {},
   "outputs": [],
   "source": [
    "dataset.drop(labels = [\"PassengerId\"], axis = 1, inplace = True)"
   ]
  },
  {
   "cell_type": "code",
   "execution_count": 62,
   "metadata": {},
   "outputs": [
    {
     "data": {
      "text/html": [
       "<div>\n",
       "<style scoped>\n",
       "    .dataframe tbody tr th:only-of-type {\n",
       "        vertical-align: middle;\n",
       "    }\n",
       "\n",
       "    .dataframe tbody tr th {\n",
       "        vertical-align: top;\n",
       "    }\n",
       "\n",
       "    .dataframe thead th {\n",
       "        text-align: right;\n",
       "    }\n",
       "</style>\n",
       "<table border=\"1\" class=\"dataframe\">\n",
       "  <thead>\n",
       "    <tr style=\"text-align: right;\">\n",
       "      <th></th>\n",
       "      <th>Age</th>\n",
       "      <th>Fare</th>\n",
       "      <th>Parch</th>\n",
       "      <th>Sex</th>\n",
       "      <th>SibSp</th>\n",
       "      <th>Survived</th>\n",
       "      <th>Fsize</th>\n",
       "      <th>Single</th>\n",
       "      <th>SmallF</th>\n",
       "      <th>MedF</th>\n",
       "      <th>...</th>\n",
       "      <th>T_STONO</th>\n",
       "      <th>T_STONO2</th>\n",
       "      <th>T_STONOQ</th>\n",
       "      <th>T_SWPP</th>\n",
       "      <th>T_WC</th>\n",
       "      <th>T_WEP</th>\n",
       "      <th>T_X</th>\n",
       "      <th>Pc_1</th>\n",
       "      <th>Pc_2</th>\n",
       "      <th>Pc_3</th>\n",
       "    </tr>\n",
       "  </thead>\n",
       "  <tbody>\n",
       "    <tr>\n",
       "      <th>0</th>\n",
       "      <td>22.0</td>\n",
       "      <td>1.981001</td>\n",
       "      <td>0</td>\n",
       "      <td>0</td>\n",
       "      <td>1</td>\n",
       "      <td>0.0</td>\n",
       "      <td>2</td>\n",
       "      <td>0</td>\n",
       "      <td>1</td>\n",
       "      <td>0</td>\n",
       "      <td>...</td>\n",
       "      <td>0</td>\n",
       "      <td>0</td>\n",
       "      <td>0</td>\n",
       "      <td>0</td>\n",
       "      <td>0</td>\n",
       "      <td>0</td>\n",
       "      <td>0</td>\n",
       "      <td>0</td>\n",
       "      <td>0</td>\n",
       "      <td>1</td>\n",
       "    </tr>\n",
       "    <tr>\n",
       "      <th>1</th>\n",
       "      <td>38.0</td>\n",
       "      <td>4.266662</td>\n",
       "      <td>0</td>\n",
       "      <td>1</td>\n",
       "      <td>1</td>\n",
       "      <td>1.0</td>\n",
       "      <td>2</td>\n",
       "      <td>0</td>\n",
       "      <td>1</td>\n",
       "      <td>0</td>\n",
       "      <td>...</td>\n",
       "      <td>0</td>\n",
       "      <td>0</td>\n",
       "      <td>0</td>\n",
       "      <td>0</td>\n",
       "      <td>0</td>\n",
       "      <td>0</td>\n",
       "      <td>0</td>\n",
       "      <td>1</td>\n",
       "      <td>0</td>\n",
       "      <td>0</td>\n",
       "    </tr>\n",
       "    <tr>\n",
       "      <th>2</th>\n",
       "      <td>26.0</td>\n",
       "      <td>2.070022</td>\n",
       "      <td>0</td>\n",
       "      <td>1</td>\n",
       "      <td>0</td>\n",
       "      <td>1.0</td>\n",
       "      <td>1</td>\n",
       "      <td>1</td>\n",
       "      <td>0</td>\n",
       "      <td>0</td>\n",
       "      <td>...</td>\n",
       "      <td>0</td>\n",
       "      <td>1</td>\n",
       "      <td>0</td>\n",
       "      <td>0</td>\n",
       "      <td>0</td>\n",
       "      <td>0</td>\n",
       "      <td>0</td>\n",
       "      <td>0</td>\n",
       "      <td>0</td>\n",
       "      <td>1</td>\n",
       "    </tr>\n",
       "    <tr>\n",
       "      <th>3</th>\n",
       "      <td>35.0</td>\n",
       "      <td>3.972177</td>\n",
       "      <td>0</td>\n",
       "      <td>1</td>\n",
       "      <td>1</td>\n",
       "      <td>1.0</td>\n",
       "      <td>2</td>\n",
       "      <td>0</td>\n",
       "      <td>1</td>\n",
       "      <td>0</td>\n",
       "      <td>...</td>\n",
       "      <td>0</td>\n",
       "      <td>0</td>\n",
       "      <td>0</td>\n",
       "      <td>0</td>\n",
       "      <td>0</td>\n",
       "      <td>0</td>\n",
       "      <td>1</td>\n",
       "      <td>1</td>\n",
       "      <td>0</td>\n",
       "      <td>0</td>\n",
       "    </tr>\n",
       "    <tr>\n",
       "      <th>4</th>\n",
       "      <td>35.0</td>\n",
       "      <td>2.085672</td>\n",
       "      <td>0</td>\n",
       "      <td>0</td>\n",
       "      <td>0</td>\n",
       "      <td>0.0</td>\n",
       "      <td>1</td>\n",
       "      <td>1</td>\n",
       "      <td>0</td>\n",
       "      <td>0</td>\n",
       "      <td>...</td>\n",
       "      <td>0</td>\n",
       "      <td>0</td>\n",
       "      <td>0</td>\n",
       "      <td>0</td>\n",
       "      <td>0</td>\n",
       "      <td>0</td>\n",
       "      <td>1</td>\n",
       "      <td>0</td>\n",
       "      <td>0</td>\n",
       "      <td>1</td>\n",
       "    </tr>\n",
       "  </tbody>\n",
       "</table>\n",
       "<p>5 rows × 67 columns</p>\n",
       "</div>"
      ],
      "text/plain": [
       "    Age      Fare  Parch  Sex  SibSp  Survived  Fsize  Single  SmallF  MedF  \\\n",
       "0  22.0  1.981001      0    0      1       0.0      2       0       1     0   \n",
       "1  38.0  4.266662      0    1      1       1.0      2       0       1     0   \n",
       "2  26.0  2.070022      0    1      0       1.0      1       1       0     0   \n",
       "3  35.0  3.972177      0    1      1       1.0      2       0       1     0   \n",
       "4  35.0  2.085672      0    0      0       0.0      1       1       0     0   \n",
       "\n",
       "   ...  T_STONO  T_STONO2  T_STONOQ  T_SWPP  T_WC  T_WEP  T_X  Pc_1  Pc_2  \\\n",
       "0  ...        0         0         0       0     0      0    0     0     0   \n",
       "1  ...        0         0         0       0     0      0    0     1     0   \n",
       "2  ...        0         1         0       0     0      0    0     0     0   \n",
       "3  ...        0         0         0       0     0      0    1     1     0   \n",
       "4  ...        0         0         0       0     0      0    1     0     0   \n",
       "\n",
       "   Pc_3  \n",
       "0     1  \n",
       "1     0  \n",
       "2     1  \n",
       "3     0  \n",
       "4     1  \n",
       "\n",
       "[5 rows x 67 columns]"
      ]
     },
     "execution_count": 62,
     "metadata": {},
     "output_type": "execute_result"
    }
   ],
   "source": [
    "dataset.head()"
   ]
  },
  {
   "cell_type": "markdown",
   "metadata": {},
   "source": [
    "# 模型"
   ]
  },
  {
   "cell_type": "code",
   "execution_count": 63,
   "metadata": {},
   "outputs": [
    {
     "name": "stderr",
     "output_type": "stream",
     "text": [
      "/home/leon/.conda/envs/test_env/lib/python3.6/site-packages/pandas/core/frame.py:3940: SettingWithCopyWarning: \n",
      "A value is trying to be set on a copy of a slice from a DataFrame\n",
      "\n",
      "See the caveats in the documentation: http://pandas.pydata.org/pandas-docs/stable/indexing.html#indexing-view-versus-copy\n",
      "  errors=errors)\n"
     ]
    }
   ],
   "source": [
    "train = dataset[:train_len]\n",
    "test = dataset[train_len:]\n",
    "test.drop(labels=[\"Survived\"],axis = 1,inplace=True)"
   ]
  },
  {
   "cell_type": "code",
   "execution_count": 64,
   "metadata": {},
   "outputs": [
    {
     "name": "stderr",
     "output_type": "stream",
     "text": [
      "/home/leon/.conda/envs/test_env/lib/python3.6/site-packages/ipykernel_launcher.py:1: SettingWithCopyWarning: \n",
      "A value is trying to be set on a copy of a slice from a DataFrame.\n",
      "Try using .loc[row_indexer,col_indexer] = value instead\n",
      "\n",
      "See the caveats in the documentation: http://pandas.pydata.org/pandas-docs/stable/indexing.html#indexing-view-versus-copy\n",
      "  \"\"\"Entry point for launching an IPython kernel.\n"
     ]
    }
   ],
   "source": [
    "train[\"Survived\"] = train[\"Survived\"].astype(int)\n",
    "\n",
    "Y_train = train[\"Survived\"]\n",
    "\n",
    "X_train = train.drop(labels = [\"Survived\"],axis = 1)"
   ]
  },
  {
   "cell_type": "code",
   "execution_count": null,
   "metadata": {},
   "outputs": [],
   "source": []
  },
  {
   "cell_type": "code",
   "execution_count": 65,
   "metadata": {},
   "outputs": [
    {
     "name": "stderr",
     "output_type": "stream",
     "text": [
      "Using TensorFlow backend.\n"
     ]
    },
    {
     "name": "stdout",
     "output_type": "stream",
     "text": [
      "Epoch 1/500\n",
      "881/881 [==============================] - 0s 153us/step - loss: 1.3075 - acc: 0.5619\n",
      "Epoch 2/500\n",
      "881/881 [==============================] - 0s 3us/step - loss: 1.2521 - acc: 0.5755\n",
      "Epoch 3/500\n",
      "881/881 [==============================] - 0s 4us/step - loss: 1.2020 - acc: 0.5687\n",
      "Epoch 4/500\n",
      "881/881 [==============================] - 0s 3us/step - loss: 1.2738 - acc: 0.5687\n",
      "Epoch 5/500\n",
      "881/881 [==============================] - 0s 3us/step - loss: 1.3295 - acc: 0.5630\n",
      "Epoch 6/500\n",
      "881/881 [==============================] - 0s 3us/step - loss: 1.3199 - acc: 0.5778\n",
      "Epoch 7/500\n",
      "881/881 [==============================] - 0s 3us/step - loss: 1.2280 - acc: 0.5914\n",
      "Epoch 8/500\n",
      "881/881 [==============================] - 0s 3us/step - loss: 1.1886 - acc: 0.5982\n",
      "Epoch 9/500\n",
      "881/881 [==============================] - 0s 3us/step - loss: 1.1757 - acc: 0.6141\n",
      "Epoch 10/500\n",
      "881/881 [==============================] - 0s 4us/step - loss: 1.1470 - acc: 0.6039\n",
      "Epoch 11/500\n",
      "881/881 [==============================] - 0s 3us/step - loss: 1.0906 - acc: 0.6107\n",
      "Epoch 12/500\n",
      "881/881 [==============================] - 0s 3us/step - loss: 1.1147 - acc: 0.6095\n",
      "Epoch 13/500\n",
      "881/881 [==============================] - 0s 3us/step - loss: 1.0859 - acc: 0.6061\n",
      "Epoch 14/500\n",
      "881/881 [==============================] - 0s 3us/step - loss: 1.0377 - acc: 0.6470\n",
      "Epoch 15/500\n",
      "881/881 [==============================] - 0s 3us/step - loss: 0.9089 - acc: 0.6311\n",
      "Epoch 16/500\n",
      "881/881 [==============================] - 0s 3us/step - loss: 1.0281 - acc: 0.5891\n",
      "Epoch 17/500\n",
      "881/881 [==============================] - 0s 3us/step - loss: 1.0858 - acc: 0.5982\n",
      "Epoch 18/500\n",
      "881/881 [==============================] - 0s 2us/step - loss: 0.9863 - acc: 0.6436\n",
      "Epoch 19/500\n",
      "881/881 [==============================] - 0s 2us/step - loss: 0.9556 - acc: 0.6220\n",
      "Epoch 20/500\n",
      "881/881 [==============================] - 0s 2us/step - loss: 0.9756 - acc: 0.6413\n",
      "Epoch 21/500\n",
      "881/881 [==============================] - 0s 2us/step - loss: 0.9654 - acc: 0.6390\n",
      "Epoch 22/500\n",
      "881/881 [==============================] - 0s 2us/step - loss: 0.9408 - acc: 0.6368\n",
      "Epoch 23/500\n",
      "881/881 [==============================] - 0s 3us/step - loss: 0.9414 - acc: 0.6356\n",
      "Epoch 24/500\n",
      "881/881 [==============================] - 0s 3us/step - loss: 0.9633 - acc: 0.6504\n",
      "Epoch 25/500\n",
      "881/881 [==============================] - 0s 3us/step - loss: 0.8755 - acc: 0.6606\n",
      "Epoch 26/500\n",
      "881/881 [==============================] - 0s 3us/step - loss: 0.9120 - acc: 0.6504\n",
      "Epoch 27/500\n",
      "881/881 [==============================] - 0s 2us/step - loss: 0.8383 - acc: 0.6810\n",
      "Epoch 28/500\n",
      "881/881 [==============================] - 0s 2us/step - loss: 0.8601 - acc: 0.6527\n",
      "Epoch 29/500\n",
      "881/881 [==============================] - 0s 3us/step - loss: 0.8010 - acc: 0.6742\n",
      "Epoch 30/500\n",
      "881/881 [==============================] - 0s 3us/step - loss: 0.7904 - acc: 0.6606\n",
      "Epoch 31/500\n",
      "881/881 [==============================] - 0s 3us/step - loss: 0.8357 - acc: 0.6708\n",
      "Epoch 32/500\n",
      "881/881 [==============================] - 0s 3us/step - loss: 0.7218 - acc: 0.6981\n",
      "Epoch 33/500\n",
      "881/881 [==============================] - 0s 2us/step - loss: 0.8328 - acc: 0.6368\n",
      "Epoch 34/500\n",
      "881/881 [==============================] - 0s 2us/step - loss: 0.7900 - acc: 0.6810\n",
      "Epoch 35/500\n",
      "881/881 [==============================] - 0s 2us/step - loss: 0.7655 - acc: 0.6652\n",
      "Epoch 36/500\n",
      "881/881 [==============================] - 0s 2us/step - loss: 0.7526 - acc: 0.6833\n",
      "Epoch 37/500\n",
      "881/881 [==============================] - 0s 2us/step - loss: 0.7075 - acc: 0.6935\n",
      "Epoch 38/500\n",
      "881/881 [==============================] - 0s 2us/step - loss: 0.7400 - acc: 0.6992\n",
      "Epoch 39/500\n",
      "881/881 [==============================] - 0s 2us/step - loss: 0.7183 - acc: 0.6981\n",
      "Epoch 40/500\n",
      "881/881 [==============================] - 0s 2us/step - loss: 0.7138 - acc: 0.7094\n",
      "Epoch 41/500\n",
      "881/881 [==============================] - 0s 2us/step - loss: 0.7273 - acc: 0.6981\n",
      "Epoch 42/500\n",
      "881/881 [==============================] - 0s 6us/step - loss: 0.7168 - acc: 0.7276\n",
      "Epoch 43/500\n",
      "881/881 [==============================] - 0s 3us/step - loss: 0.7009 - acc: 0.7072\n",
      "Epoch 44/500\n",
      "881/881 [==============================] - 0s 2us/step - loss: 0.6696 - acc: 0.7276\n",
      "Epoch 45/500\n",
      "881/881 [==============================] - 0s 3us/step - loss: 0.6275 - acc: 0.7276\n",
      "Epoch 46/500\n",
      "881/881 [==============================] - 0s 2us/step - loss: 0.6625 - acc: 0.7140\n",
      "Epoch 47/500\n",
      "881/881 [==============================] - 0s 3us/step - loss: 0.6928 - acc: 0.7049\n",
      "Epoch 48/500\n",
      "881/881 [==============================] - 0s 3us/step - loss: 0.6164 - acc: 0.7230\n",
      "Epoch 49/500\n",
      "881/881 [==============================] - 0s 3us/step - loss: 0.6391 - acc: 0.7401\n",
      "Epoch 50/500\n",
      "881/881 [==============================] - 0s 2us/step - loss: 0.6108 - acc: 0.7299\n",
      "Epoch 51/500\n",
      "881/881 [==============================] - 0s 2us/step - loss: 0.5966 - acc: 0.7491\n",
      "Epoch 52/500\n",
      "881/881 [==============================] - 0s 2us/step - loss: 0.6122 - acc: 0.7560\n",
      "Epoch 53/500\n",
      "881/881 [==============================] - 0s 3us/step - loss: 0.6408 - acc: 0.7196\n",
      "Epoch 54/500\n",
      "881/881 [==============================] - 0s 3us/step - loss: 0.6517 - acc: 0.7174\n",
      "Epoch 55/500\n",
      "881/881 [==============================] - 0s 2us/step - loss: 0.6222 - acc: 0.7435\n",
      "Epoch 56/500\n",
      "881/881 [==============================] - 0s 2us/step - loss: 0.6165 - acc: 0.7560\n",
      "Epoch 57/500\n",
      "881/881 [==============================] - 0s 2us/step - loss: 0.5993 - acc: 0.7503\n",
      "Epoch 58/500\n",
      "881/881 [==============================] - 0s 2us/step - loss: 0.5986 - acc: 0.7560\n",
      "Epoch 59/500\n",
      "881/881 [==============================] - 0s 2us/step - loss: 0.6055 - acc: 0.7446\n",
      "Epoch 60/500\n",
      "881/881 [==============================] - 0s 2us/step - loss: 0.5429 - acc: 0.7662\n",
      "Epoch 61/500\n",
      "881/881 [==============================] - 0s 2us/step - loss: 0.5498 - acc: 0.7594\n",
      "Epoch 62/500\n",
      "881/881 [==============================] - 0s 2us/step - loss: 0.5718 - acc: 0.7571\n",
      "Epoch 63/500\n",
      "881/881 [==============================] - 0s 2us/step - loss: 0.5756 - acc: 0.7582\n",
      "Epoch 64/500\n",
      "881/881 [==============================] - 0s 2us/step - loss: 0.5606 - acc: 0.7696\n",
      "Epoch 65/500\n",
      "881/881 [==============================] - 0s 2us/step - loss: 0.5540 - acc: 0.7560\n",
      "Epoch 66/500\n",
      "881/881 [==============================] - 0s 2us/step - loss: 0.5166 - acc: 0.7616\n",
      "Epoch 67/500\n",
      "881/881 [==============================] - 0s 2us/step - loss: 0.5279 - acc: 0.7662\n",
      "Epoch 68/500\n",
      "881/881 [==============================] - 0s 2us/step - loss: 0.5220 - acc: 0.7673\n",
      "Epoch 69/500\n",
      "881/881 [==============================] - 0s 2us/step - loss: 0.5137 - acc: 0.7741\n",
      "Epoch 70/500\n",
      "881/881 [==============================] - 0s 3us/step - loss: 0.5098 - acc: 0.7866\n",
      "Epoch 71/500\n",
      "881/881 [==============================] - 0s 3us/step - loss: 0.5226 - acc: 0.7684\n",
      "Epoch 72/500\n",
      "881/881 [==============================] - 0s 2us/step - loss: 0.4756 - acc: 0.8014\n",
      "Epoch 73/500\n",
      "881/881 [==============================] - 0s 2us/step - loss: 0.5204 - acc: 0.7787\n",
      "Epoch 74/500\n",
      "881/881 [==============================] - 0s 3us/step - loss: 0.5217 - acc: 0.7684\n",
      "Epoch 75/500\n",
      "881/881 [==============================] - 0s 3us/step - loss: 0.4905 - acc: 0.7798\n",
      "Epoch 76/500\n",
      "881/881 [==============================] - 0s 3us/step - loss: 0.5457 - acc: 0.7707\n",
      "Epoch 77/500\n",
      "881/881 [==============================] - 0s 3us/step - loss: 0.4942 - acc: 0.7923\n",
      "Epoch 78/500\n",
      "881/881 [==============================] - 0s 3us/step - loss: 0.5152 - acc: 0.7741\n",
      "Epoch 79/500\n",
      "881/881 [==============================] - 0s 3us/step - loss: 0.5279 - acc: 0.7639\n",
      "Epoch 80/500\n",
      "881/881 [==============================] - 0s 4us/step - loss: 0.5221 - acc: 0.7775\n",
      "Epoch 81/500\n",
      "881/881 [==============================] - 0s 3us/step - loss: 0.5172 - acc: 0.7798\n",
      "Epoch 82/500\n",
      "881/881 [==============================] - 0s 3us/step - loss: 0.5026 - acc: 0.7843\n",
      "Epoch 83/500\n",
      "881/881 [==============================] - 0s 3us/step - loss: 0.5242 - acc: 0.7696\n",
      "Epoch 84/500\n",
      "881/881 [==============================] - 0s 2us/step - loss: 0.5059 - acc: 0.7787\n",
      "Epoch 85/500\n",
      "881/881 [==============================] - 0s 3us/step - loss: 0.4922 - acc: 0.7991\n"
     ]
    },
    {
     "name": "stdout",
     "output_type": "stream",
     "text": [
      "Epoch 86/500\n",
      "881/881 [==============================] - 0s 3us/step - loss: 0.5241 - acc: 0.7889\n",
      "Epoch 87/500\n",
      "881/881 [==============================] - 0s 3us/step - loss: 0.4904 - acc: 0.7911\n",
      "Epoch 88/500\n",
      "881/881 [==============================] - 0s 3us/step - loss: 0.5008 - acc: 0.7889\n",
      "Epoch 89/500\n",
      "881/881 [==============================] - 0s 2us/step - loss: 0.4746 - acc: 0.7957\n",
      "Epoch 90/500\n",
      "881/881 [==============================] - 0s 2us/step - loss: 0.4846 - acc: 0.7934\n",
      "Epoch 91/500\n",
      "881/881 [==============================] - 0s 3us/step - loss: 0.4755 - acc: 0.7798\n",
      "Epoch 92/500\n",
      "881/881 [==============================] - 0s 3us/step - loss: 0.4754 - acc: 0.7968\n",
      "Epoch 93/500\n",
      "881/881 [==============================] - 0s 3us/step - loss: 0.4884 - acc: 0.8014\n",
      "Epoch 94/500\n",
      "881/881 [==============================] - 0s 3us/step - loss: 0.4725 - acc: 0.7980\n",
      "Epoch 95/500\n",
      "881/881 [==============================] - 0s 3us/step - loss: 0.4784 - acc: 0.7866\n",
      "Epoch 96/500\n",
      "881/881 [==============================] - 0s 3us/step - loss: 0.4515 - acc: 0.8116\n",
      "Epoch 97/500\n",
      "881/881 [==============================] - 0s 3us/step - loss: 0.4591 - acc: 0.8059\n",
      "Epoch 98/500\n",
      "881/881 [==============================] - 0s 3us/step - loss: 0.4641 - acc: 0.8059\n",
      "Epoch 99/500\n",
      "881/881 [==============================] - 0s 3us/step - loss: 0.4640 - acc: 0.8173\n",
      "Epoch 100/500\n",
      "881/881 [==============================] - 0s 3us/step - loss: 0.4625 - acc: 0.8070\n",
      "Epoch 101/500\n",
      "881/881 [==============================] - 0s 2us/step - loss: 0.4703 - acc: 0.8082\n",
      "Epoch 102/500\n",
      "881/881 [==============================] - 0s 2us/step - loss: 0.4438 - acc: 0.8150\n",
      "Epoch 103/500\n",
      "881/881 [==============================] - 0s 2us/step - loss: 0.4662 - acc: 0.8093\n",
      "Epoch 104/500\n",
      "881/881 [==============================] - 0s 3us/step - loss: 0.4755 - acc: 0.8082\n",
      "Epoch 105/500\n",
      "881/881 [==============================] - 0s 2us/step - loss: 0.4595 - acc: 0.7968\n",
      "Epoch 106/500\n",
      "881/881 [==============================] - 0s 2us/step - loss: 0.4694 - acc: 0.8059\n",
      "Epoch 107/500\n",
      "881/881 [==============================] - 0s 3us/step - loss: 0.4525 - acc: 0.8036\n",
      "Epoch 108/500\n",
      "881/881 [==============================] - 0s 3us/step - loss: 0.4471 - acc: 0.8161\n",
      "Epoch 109/500\n",
      "881/881 [==============================] - 0s 3us/step - loss: 0.4511 - acc: 0.8297\n",
      "Epoch 110/500\n",
      "881/881 [==============================] - 0s 3us/step - loss: 0.4279 - acc: 0.8184\n",
      "Epoch 111/500\n",
      "881/881 [==============================] - 0s 3us/step - loss: 0.4276 - acc: 0.8082\n",
      "Epoch 112/500\n",
      "881/881 [==============================] - 0s 2us/step - loss: 0.4409 - acc: 0.8116\n",
      "Epoch 113/500\n",
      "881/881 [==============================] - 0s 3us/step - loss: 0.4462 - acc: 0.8082\n",
      "Epoch 114/500\n",
      "881/881 [==============================] - 0s 3us/step - loss: 0.4458 - acc: 0.8116\n",
      "Epoch 115/500\n",
      "881/881 [==============================] - 0s 3us/step - loss: 0.4320 - acc: 0.8241\n",
      "Epoch 116/500\n",
      "881/881 [==============================] - 0s 3us/step - loss: 0.4103 - acc: 0.8297\n",
      "Epoch 117/500\n",
      "881/881 [==============================] - 0s 3us/step - loss: 0.4371 - acc: 0.8150\n",
      "Epoch 118/500\n",
      "881/881 [==============================] - 0s 3us/step - loss: 0.4373 - acc: 0.8207\n",
      "Epoch 119/500\n",
      "881/881 [==============================] - 0s 3us/step - loss: 0.4146 - acc: 0.8229\n",
      "Epoch 120/500\n",
      "881/881 [==============================] - 0s 3us/step - loss: 0.4340 - acc: 0.8138\n",
      "Epoch 121/500\n",
      "881/881 [==============================] - 0s 3us/step - loss: 0.4295 - acc: 0.8218\n",
      "Epoch 122/500\n",
      "881/881 [==============================] - 0s 3us/step - loss: 0.4427 - acc: 0.8093\n",
      "Epoch 123/500\n",
      "881/881 [==============================] - 0s 3us/step - loss: 0.4149 - acc: 0.8161\n",
      "Epoch 124/500\n",
      "881/881 [==============================] - 0s 3us/step - loss: 0.4168 - acc: 0.8365\n",
      "Epoch 125/500\n",
      "881/881 [==============================] - 0s 3us/step - loss: 0.4448 - acc: 0.8195\n",
      "Epoch 126/500\n",
      "881/881 [==============================] - 0s 3us/step - loss: 0.4252 - acc: 0.8229\n",
      "Epoch 127/500\n",
      "881/881 [==============================] - 0s 3us/step - loss: 0.4225 - acc: 0.8275\n",
      "Epoch 128/500\n",
      "881/881 [==============================] - 0s 3us/step - loss: 0.4303 - acc: 0.8184\n",
      "Epoch 129/500\n",
      "881/881 [==============================] - 0s 4us/step - loss: 0.4222 - acc: 0.8104\n",
      "Epoch 130/500\n",
      "881/881 [==============================] - 0s 3us/step - loss: 0.4215 - acc: 0.8161\n",
      "Epoch 131/500\n",
      "881/881 [==============================] - 0s 3us/step - loss: 0.4193 - acc: 0.8263\n",
      "Epoch 132/500\n",
      "881/881 [==============================] - 0s 3us/step - loss: 0.4281 - acc: 0.8241\n",
      "Epoch 133/500\n",
      "881/881 [==============================] - 0s 3us/step - loss: 0.4256 - acc: 0.8173\n",
      "Epoch 134/500\n",
      "881/881 [==============================] - 0s 3us/step - loss: 0.4088 - acc: 0.8309\n",
      "Epoch 135/500\n",
      "881/881 [==============================] - 0s 3us/step - loss: 0.4133 - acc: 0.8241\n",
      "Epoch 136/500\n",
      "881/881 [==============================] - 0s 3us/step - loss: 0.4348 - acc: 0.8241\n",
      "Epoch 137/500\n",
      "881/881 [==============================] - 0s 3us/step - loss: 0.4325 - acc: 0.8048\n",
      "Epoch 138/500\n",
      "881/881 [==============================] - 0s 3us/step - loss: 0.4208 - acc: 0.8241\n",
      "Epoch 139/500\n",
      "881/881 [==============================] - 0s 3us/step - loss: 0.4021 - acc: 0.8309\n",
      "Epoch 140/500\n",
      "881/881 [==============================] - 0s 3us/step - loss: 0.4123 - acc: 0.8297\n",
      "Epoch 141/500\n",
      "881/881 [==============================] - 0s 3us/step - loss: 0.4150 - acc: 0.8286\n",
      "Epoch 142/500\n",
      "881/881 [==============================] - 0s 3us/step - loss: 0.4004 - acc: 0.8275\n",
      "Epoch 143/500\n",
      "881/881 [==============================] - 0s 3us/step - loss: 0.4136 - acc: 0.8286\n",
      "Epoch 144/500\n",
      "881/881 [==============================] - 0s 3us/step - loss: 0.4249 - acc: 0.8218\n",
      "Epoch 145/500\n",
      "881/881 [==============================] - 0s 3us/step - loss: 0.4066 - acc: 0.8263\n",
      "Epoch 146/500\n",
      "881/881 [==============================] - 0s 3us/step - loss: 0.4093 - acc: 0.8286\n",
      "Epoch 147/500\n",
      "881/881 [==============================] - 0s 3us/step - loss: 0.4045 - acc: 0.8286\n",
      "Epoch 148/500\n",
      "881/881 [==============================] - 0s 3us/step - loss: 0.4095 - acc: 0.8297\n",
      "Epoch 149/500\n",
      "881/881 [==============================] - 0s 2us/step - loss: 0.4063 - acc: 0.8241\n",
      "Epoch 150/500\n",
      "881/881 [==============================] - 0s 3us/step - loss: 0.4054 - acc: 0.8297\n",
      "Epoch 151/500\n",
      "881/881 [==============================] - 0s 2us/step - loss: 0.4004 - acc: 0.8388\n",
      "Epoch 152/500\n",
      "881/881 [==============================] - 0s 2us/step - loss: 0.4222 - acc: 0.8207\n",
      "Epoch 153/500\n",
      "881/881 [==============================] - 0s 2us/step - loss: 0.4015 - acc: 0.8411\n",
      "Epoch 154/500\n",
      "881/881 [==============================] - 0s 2us/step - loss: 0.4039 - acc: 0.8297\n",
      "Epoch 155/500\n",
      "881/881 [==============================] - 0s 3us/step - loss: 0.3971 - acc: 0.8365\n",
      "Epoch 156/500\n",
      "881/881 [==============================] - 0s 3us/step - loss: 0.4109 - acc: 0.8320\n",
      "Epoch 157/500\n",
      "881/881 [==============================] - 0s 3us/step - loss: 0.4073 - acc: 0.8275\n",
      "Epoch 158/500\n",
      "881/881 [==============================] - 0s 3us/step - loss: 0.4077 - acc: 0.8343\n",
      "Epoch 159/500\n",
      "881/881 [==============================] - 0s 3us/step - loss: 0.4075 - acc: 0.8263\n",
      "Epoch 160/500\n",
      "881/881 [==============================] - 0s 3us/step - loss: 0.4059 - acc: 0.8320\n",
      "Epoch 161/500\n",
      "881/881 [==============================] - 0s 3us/step - loss: 0.4047 - acc: 0.8297\n",
      "Epoch 162/500\n",
      "881/881 [==============================] - 0s 3us/step - loss: 0.3900 - acc: 0.8377\n",
      "Epoch 163/500\n",
      "881/881 [==============================] - 0s 3us/step - loss: 0.4039 - acc: 0.8354\n",
      "Epoch 164/500\n",
      "881/881 [==============================] - 0s 2us/step - loss: 0.4018 - acc: 0.8354\n",
      "Epoch 165/500\n",
      "881/881 [==============================] - 0s 3us/step - loss: 0.4032 - acc: 0.8320\n",
      "Epoch 166/500\n",
      "881/881 [==============================] - 0s 3us/step - loss: 0.4068 - acc: 0.8263\n",
      "Epoch 167/500\n",
      "881/881 [==============================] - 0s 3us/step - loss: 0.4069 - acc: 0.8320\n",
      "Epoch 168/500\n",
      "881/881 [==============================] - 0s 2us/step - loss: 0.3995 - acc: 0.8388\n",
      "Epoch 169/500\n",
      "881/881 [==============================] - 0s 2us/step - loss: 0.4045 - acc: 0.8331\n"
     ]
    },
    {
     "name": "stdout",
     "output_type": "stream",
     "text": [
      "Epoch 170/500\n",
      "881/881 [==============================] - 0s 3us/step - loss: 0.4048 - acc: 0.8309\n",
      "Epoch 171/500\n",
      "881/881 [==============================] - 0s 2us/step - loss: 0.3963 - acc: 0.8331\n",
      "Epoch 172/500\n",
      "881/881 [==============================] - 0s 2us/step - loss: 0.4027 - acc: 0.8331\n",
      "Epoch 173/500\n",
      "881/881 [==============================] - 0s 3us/step - loss: 0.4091 - acc: 0.8252\n",
      "Epoch 174/500\n",
      "881/881 [==============================] - 0s 3us/step - loss: 0.3977 - acc: 0.8309\n",
      "Epoch 175/500\n",
      "881/881 [==============================] - 0s 3us/step - loss: 0.3865 - acc: 0.8434\n",
      "Epoch 176/500\n",
      "881/881 [==============================] - 0s 3us/step - loss: 0.3996 - acc: 0.8377\n",
      "Epoch 177/500\n",
      "881/881 [==============================] - 0s 3us/step - loss: 0.4012 - acc: 0.8365\n",
      "Epoch 178/500\n",
      "881/881 [==============================] - 0s 3us/step - loss: 0.4097 - acc: 0.8309\n",
      "Epoch 179/500\n",
      "881/881 [==============================] - 0s 3us/step - loss: 0.4000 - acc: 0.8286\n",
      "Epoch 180/500\n",
      "881/881 [==============================] - 0s 3us/step - loss: 0.3939 - acc: 0.8377\n",
      "Epoch 181/500\n",
      "881/881 [==============================] - 0s 3us/step - loss: 0.3945 - acc: 0.8365\n",
      "Epoch 182/500\n",
      "881/881 [==============================] - 0s 2us/step - loss: 0.3985 - acc: 0.8320\n",
      "Epoch 183/500\n",
      "881/881 [==============================] - 0s 2us/step - loss: 0.3708 - acc: 0.8456\n",
      "Epoch 184/500\n",
      "881/881 [==============================] - 0s 3us/step - loss: 0.3880 - acc: 0.8365\n",
      "Epoch 185/500\n",
      "881/881 [==============================] - 0s 3us/step - loss: 0.3982 - acc: 0.8422\n",
      "Epoch 186/500\n",
      "881/881 [==============================] - 0s 2us/step - loss: 0.3919 - acc: 0.8229\n",
      "Epoch 187/500\n",
      "881/881 [==============================] - 0s 3us/step - loss: 0.3919 - acc: 0.8297\n",
      "Epoch 188/500\n",
      "881/881 [==============================] - 0s 3us/step - loss: 0.3932 - acc: 0.8445\n",
      "Epoch 189/500\n",
      "881/881 [==============================] - 0s 2us/step - loss: 0.3951 - acc: 0.8365\n",
      "Epoch 190/500\n",
      "881/881 [==============================] - 0s 2us/step - loss: 0.3742 - acc: 0.8388\n",
      "Epoch 191/500\n",
      "881/881 [==============================] - 0s 3us/step - loss: 0.3930 - acc: 0.8275\n",
      "Epoch 192/500\n",
      "881/881 [==============================] - 0s 3us/step - loss: 0.3914 - acc: 0.8479\n",
      "Epoch 193/500\n",
      "881/881 [==============================] - 0s 2us/step - loss: 0.4013 - acc: 0.8173\n",
      "Epoch 194/500\n",
      "881/881 [==============================] - 0s 3us/step - loss: 0.3900 - acc: 0.8388\n",
      "Epoch 195/500\n",
      "881/881 [==============================] - 0s 2us/step - loss: 0.3889 - acc: 0.8456\n",
      "Epoch 196/500\n",
      "881/881 [==============================] - 0s 2us/step - loss: 0.3906 - acc: 0.8331\n",
      "Epoch 197/500\n",
      "881/881 [==============================] - 0s 3us/step - loss: 0.3909 - acc: 0.8343\n",
      "Epoch 198/500\n",
      "881/881 [==============================] - 0s 2us/step - loss: 0.3914 - acc: 0.8331\n",
      "Epoch 199/500\n",
      "881/881 [==============================] - 0s 2us/step - loss: 0.3829 - acc: 0.8434\n",
      "Epoch 200/500\n",
      "881/881 [==============================] - 0s 3us/step - loss: 0.3880 - acc: 0.8388\n",
      "Epoch 201/500\n",
      "881/881 [==============================] - 0s 3us/step - loss: 0.3819 - acc: 0.8331\n",
      "Epoch 202/500\n",
      "881/881 [==============================] - 0s 3us/step - loss: 0.3841 - acc: 0.8343\n",
      "Epoch 203/500\n",
      "881/881 [==============================] - 0s 3us/step - loss: 0.3935 - acc: 0.8354\n",
      "Epoch 204/500\n",
      "881/881 [==============================] - 0s 3us/step - loss: 0.3839 - acc: 0.8434\n",
      "Epoch 205/500\n",
      "881/881 [==============================] - 0s 3us/step - loss: 0.3976 - acc: 0.8354\n",
      "Epoch 206/500\n",
      "881/881 [==============================] - 0s 3us/step - loss: 0.3778 - acc: 0.8422\n",
      "Epoch 207/500\n",
      "881/881 [==============================] - 0s 3us/step - loss: 0.3758 - acc: 0.8388\n",
      "Epoch 208/500\n",
      "881/881 [==============================] - 0s 2us/step - loss: 0.3897 - acc: 0.8456\n",
      "Epoch 209/500\n",
      "881/881 [==============================] - 0s 3us/step - loss: 0.3843 - acc: 0.8513\n",
      "Epoch 210/500\n",
      "881/881 [==============================] - 0s 3us/step - loss: 0.3901 - acc: 0.8388\n",
      "Epoch 211/500\n",
      "881/881 [==============================] - 0s 3us/step - loss: 0.3919 - acc: 0.8331\n",
      "Epoch 212/500\n",
      "881/881 [==============================] - 0s 3us/step - loss: 0.3795 - acc: 0.8365\n",
      "Epoch 213/500\n",
      "881/881 [==============================] - 0s 3us/step - loss: 0.3861 - acc: 0.8320\n",
      "Epoch 214/500\n",
      "881/881 [==============================] - 0s 3us/step - loss: 0.3787 - acc: 0.8343\n",
      "Epoch 215/500\n",
      "881/881 [==============================] - 0s 3us/step - loss: 0.3932 - acc: 0.8343\n",
      "Epoch 216/500\n",
      "881/881 [==============================] - 0s 3us/step - loss: 0.3760 - acc: 0.8400\n",
      "Epoch 217/500\n",
      "881/881 [==============================] - 0s 3us/step - loss: 0.3835 - acc: 0.8354\n",
      "Epoch 218/500\n",
      "881/881 [==============================] - 0s 3us/step - loss: 0.3797 - acc: 0.8468\n",
      "Epoch 219/500\n",
      "881/881 [==============================] - 0s 3us/step - loss: 0.3804 - acc: 0.8434\n",
      "Epoch 220/500\n",
      "881/881 [==============================] - 0s 3us/step - loss: 0.3852 - acc: 0.8502\n",
      "Epoch 221/500\n",
      "881/881 [==============================] - 0s 3us/step - loss: 0.3884 - acc: 0.8411\n",
      "Epoch 222/500\n",
      "881/881 [==============================] - 0s 3us/step - loss: 0.3844 - acc: 0.8377\n",
      "Epoch 223/500\n",
      "881/881 [==============================] - 0s 3us/step - loss: 0.3718 - acc: 0.8479\n",
      "Epoch 224/500\n",
      "881/881 [==============================] - 0s 3us/step - loss: 0.3861 - acc: 0.8343\n",
      "Epoch 225/500\n",
      "881/881 [==============================] - 0s 3us/step - loss: 0.4035 - acc: 0.8343\n",
      "Epoch 226/500\n",
      "881/881 [==============================] - 0s 3us/step - loss: 0.3759 - acc: 0.8547\n",
      "Epoch 227/500\n",
      "881/881 [==============================] - 0s 3us/step - loss: 0.3759 - acc: 0.8445\n",
      "Epoch 228/500\n",
      "881/881 [==============================] - 0s 3us/step - loss: 0.3779 - acc: 0.8490\n",
      "Epoch 229/500\n",
      "881/881 [==============================] - 0s 3us/step - loss: 0.3685 - acc: 0.8456\n",
      "Epoch 230/500\n",
      "881/881 [==============================] - 0s 3us/step - loss: 0.3783 - acc: 0.8365\n",
      "Epoch 231/500\n",
      "881/881 [==============================] - 0s 3us/step - loss: 0.3749 - acc: 0.8456\n",
      "Epoch 232/500\n",
      "881/881 [==============================] - 0s 3us/step - loss: 0.3692 - acc: 0.8434\n",
      "Epoch 233/500\n",
      "881/881 [==============================] - 0s 3us/step - loss: 0.3880 - acc: 0.8422\n",
      "Epoch 234/500\n",
      "881/881 [==============================] - 0s 3us/step - loss: 0.3752 - acc: 0.8536\n",
      "Epoch 235/500\n",
      "881/881 [==============================] - 0s 3us/step - loss: 0.3761 - acc: 0.8377\n",
      "Epoch 236/500\n",
      "881/881 [==============================] - 0s 3us/step - loss: 0.3678 - acc: 0.8468\n",
      "Epoch 237/500\n",
      "881/881 [==============================] - 0s 3us/step - loss: 0.3766 - acc: 0.8468\n",
      "Epoch 238/500\n",
      "881/881 [==============================] - 0s 3us/step - loss: 0.3696 - acc: 0.8445\n",
      "Epoch 239/500\n",
      "881/881 [==============================] - 0s 3us/step - loss: 0.3776 - acc: 0.8468\n",
      "Epoch 240/500\n",
      "881/881 [==============================] - 0s 3us/step - loss: 0.3728 - acc: 0.8468\n",
      "Epoch 241/500\n",
      "881/881 [==============================] - 0s 2us/step - loss: 0.3696 - acc: 0.8456\n",
      "Epoch 242/500\n",
      "881/881 [==============================] - 0s 4us/step - loss: 0.3760 - acc: 0.8581\n",
      "Epoch 243/500\n",
      "881/881 [==============================] - 0s 3us/step - loss: 0.3746 - acc: 0.8422\n",
      "Epoch 244/500\n",
      "881/881 [==============================] - 0s 3us/step - loss: 0.3687 - acc: 0.8490\n",
      "Epoch 245/500\n",
      "881/881 [==============================] - 0s 3us/step - loss: 0.3877 - acc: 0.8388\n",
      "Epoch 246/500\n",
      "881/881 [==============================] - 0s 3us/step - loss: 0.3707 - acc: 0.8434\n",
      "Epoch 247/500\n",
      "881/881 [==============================] - 0s 3us/step - loss: 0.3668 - acc: 0.8422\n",
      "Epoch 248/500\n",
      "881/881 [==============================] - 0s 3us/step - loss: 0.3751 - acc: 0.8490\n",
      "Epoch 249/500\n",
      "881/881 [==============================] - 0s 3us/step - loss: 0.3786 - acc: 0.8513\n",
      "Epoch 250/500\n",
      "881/881 [==============================] - 0s 3us/step - loss: 0.3605 - acc: 0.8547\n",
      "Epoch 251/500\n",
      "881/881 [==============================] - 0s 3us/step - loss: 0.3713 - acc: 0.8456\n",
      "Epoch 252/500\n",
      "881/881 [==============================] - 0s 3us/step - loss: 0.3668 - acc: 0.8502\n",
      "Epoch 253/500\n",
      "881/881 [==============================] - 0s 3us/step - loss: 0.3762 - acc: 0.8456\n"
     ]
    },
    {
     "name": "stdout",
     "output_type": "stream",
     "text": [
      "Epoch 254/500\n",
      "881/881 [==============================] - 0s 3us/step - loss: 0.3673 - acc: 0.8456\n",
      "Epoch 255/500\n",
      "881/881 [==============================] - 0s 3us/step - loss: 0.3747 - acc: 0.8445\n",
      "Epoch 256/500\n",
      "881/881 [==============================] - 0s 3us/step - loss: 0.3710 - acc: 0.8456\n",
      "Epoch 257/500\n",
      "881/881 [==============================] - 0s 3us/step - loss: 0.3639 - acc: 0.8502\n",
      "Epoch 258/500\n",
      "881/881 [==============================] - 0s 3us/step - loss: 0.3790 - acc: 0.8468\n",
      "Epoch 259/500\n",
      "881/881 [==============================] - 0s 3us/step - loss: 0.3737 - acc: 0.8445\n",
      "Epoch 260/500\n",
      "881/881 [==============================] - 0s 3us/step - loss: 0.3759 - acc: 0.8479\n",
      "Epoch 261/500\n",
      "881/881 [==============================] - 0s 3us/step - loss: 0.3750 - acc: 0.8422\n",
      "Epoch 262/500\n",
      "881/881 [==============================] - 0s 3us/step - loss: 0.3731 - acc: 0.8513\n",
      "Epoch 263/500\n",
      "881/881 [==============================] - 0s 3us/step - loss: 0.3702 - acc: 0.8388\n",
      "Epoch 264/500\n",
      "881/881 [==============================] - 0s 3us/step - loss: 0.3638 - acc: 0.8479\n",
      "Epoch 265/500\n",
      "881/881 [==============================] - 0s 3us/step - loss: 0.3749 - acc: 0.8502\n",
      "Epoch 266/500\n",
      "881/881 [==============================] - 0s 3us/step - loss: 0.3694 - acc: 0.8411\n",
      "Epoch 267/500\n",
      "881/881 [==============================] - 0s 3us/step - loss: 0.3675 - acc: 0.8468\n",
      "Epoch 268/500\n",
      "881/881 [==============================] - 0s 2us/step - loss: 0.3630 - acc: 0.8581\n",
      "Epoch 269/500\n",
      "881/881 [==============================] - 0s 2us/step - loss: 0.3630 - acc: 0.8524\n",
      "Epoch 270/500\n",
      "881/881 [==============================] - 0s 2us/step - loss: 0.3693 - acc: 0.8400\n",
      "Epoch 271/500\n",
      "881/881 [==============================] - 0s 3us/step - loss: 0.3832 - acc: 0.8388\n",
      "Epoch 272/500\n",
      "881/881 [==============================] - 0s 3us/step - loss: 0.3721 - acc: 0.8422\n",
      "Epoch 273/500\n",
      "881/881 [==============================] - 0s 3us/step - loss: 0.3683 - acc: 0.8502\n",
      "Epoch 274/500\n",
      "881/881 [==============================] - 0s 3us/step - loss: 0.3648 - acc: 0.8445\n",
      "Epoch 275/500\n",
      "881/881 [==============================] - 0s 3us/step - loss: 0.3686 - acc: 0.8456\n",
      "Epoch 276/500\n",
      "881/881 [==============================] - 0s 3us/step - loss: 0.3641 - acc: 0.8502\n",
      "Epoch 277/500\n",
      "881/881 [==============================] - 0s 3us/step - loss: 0.3699 - acc: 0.8490\n",
      "Epoch 278/500\n",
      "881/881 [==============================] - 0s 3us/step - loss: 0.3624 - acc: 0.8445\n",
      "Epoch 279/500\n",
      "881/881 [==============================] - 0s 3us/step - loss: 0.3639 - acc: 0.8547\n",
      "Epoch 280/500\n",
      "881/881 [==============================] - 0s 3us/step - loss: 0.3609 - acc: 0.8502\n",
      "Epoch 281/500\n",
      "881/881 [==============================] - 0s 3us/step - loss: 0.3721 - acc: 0.8365\n",
      "Epoch 282/500\n",
      "881/881 [==============================] - 0s 3us/step - loss: 0.3800 - acc: 0.8422\n",
      "Epoch 283/500\n",
      "881/881 [==============================] - 0s 3us/step - loss: 0.3710 - acc: 0.8388\n",
      "Epoch 284/500\n",
      "881/881 [==============================] - 0s 3us/step - loss: 0.3571 - acc: 0.8558\n",
      "Epoch 285/500\n",
      "881/881 [==============================] - 0s 3us/step - loss: 0.3547 - acc: 0.8502\n",
      "Epoch 286/500\n",
      "881/881 [==============================] - 0s 2us/step - loss: 0.3732 - acc: 0.8331\n",
      "Epoch 287/500\n",
      "881/881 [==============================] - 0s 3us/step - loss: 0.3538 - acc: 0.8502\n",
      "Epoch 288/500\n",
      "881/881 [==============================] - 0s 3us/step - loss: 0.3630 - acc: 0.8513\n",
      "Epoch 289/500\n",
      "881/881 [==============================] - 0s 3us/step - loss: 0.3587 - acc: 0.8513\n",
      "Epoch 290/500\n",
      "881/881 [==============================] - 0s 4us/step - loss: 0.3594 - acc: 0.8445\n",
      "Epoch 291/500\n",
      "881/881 [==============================] - 0s 3us/step - loss: 0.3608 - acc: 0.8570\n",
      "Epoch 292/500\n",
      "881/881 [==============================] - 0s 3us/step - loss: 0.3558 - acc: 0.8558\n",
      "Epoch 293/500\n",
      "881/881 [==============================] - 0s 3us/step - loss: 0.3655 - acc: 0.8490\n",
      "Epoch 294/500\n",
      "881/881 [==============================] - 0s 3us/step - loss: 0.3588 - acc: 0.8615\n",
      "Epoch 295/500\n",
      "881/881 [==============================] - 0s 3us/step - loss: 0.3660 - acc: 0.8536\n",
      "Epoch 296/500\n",
      "881/881 [==============================] - 0s 3us/step - loss: 0.3568 - acc: 0.8570\n",
      "Epoch 297/500\n",
      "881/881 [==============================] - 0s 3us/step - loss: 0.3627 - acc: 0.8524\n",
      "Epoch 298/500\n",
      "881/881 [==============================] - 0s 3us/step - loss: 0.3563 - acc: 0.8547\n",
      "Epoch 299/500\n",
      "881/881 [==============================] - 0s 3us/step - loss: 0.3561 - acc: 0.8502\n",
      "Epoch 300/500\n",
      "881/881 [==============================] - 0s 3us/step - loss: 0.3611 - acc: 0.8513\n",
      "Epoch 301/500\n",
      "881/881 [==============================] - 0s 3us/step - loss: 0.3639 - acc: 0.8558\n",
      "Epoch 302/500\n",
      "881/881 [==============================] - 0s 3us/step - loss: 0.3579 - acc: 0.8490\n",
      "Epoch 303/500\n",
      "881/881 [==============================] - 0s 3us/step - loss: 0.3654 - acc: 0.8513\n",
      "Epoch 304/500\n",
      "881/881 [==============================] - 0s 3us/step - loss: 0.3556 - acc: 0.8490\n",
      "Epoch 305/500\n",
      "881/881 [==============================] - 0s 3us/step - loss: 0.3524 - acc: 0.8558\n",
      "Epoch 306/500\n",
      "881/881 [==============================] - 0s 3us/step - loss: 0.3547 - acc: 0.8490\n",
      "Epoch 307/500\n",
      "881/881 [==============================] - 0s 3us/step - loss: 0.3545 - acc: 0.8400\n",
      "Epoch 308/500\n",
      "881/881 [==============================] - 0s 3us/step - loss: 0.3578 - acc: 0.8524\n",
      "Epoch 309/500\n",
      "881/881 [==============================] - 0s 3us/step - loss: 0.3624 - acc: 0.8502\n",
      "Epoch 310/500\n",
      "881/881 [==============================] - 0s 3us/step - loss: 0.3594 - acc: 0.8468\n",
      "Epoch 311/500\n",
      "881/881 [==============================] - 0s 3us/step - loss: 0.3645 - acc: 0.8422\n",
      "Epoch 312/500\n",
      "881/881 [==============================] - 0s 3us/step - loss: 0.3549 - acc: 0.8513\n",
      "Epoch 313/500\n",
      "881/881 [==============================] - 0s 3us/step - loss: 0.3604 - acc: 0.8558\n",
      "Epoch 314/500\n",
      "881/881 [==============================] - 0s 3us/step - loss: 0.3655 - acc: 0.8377\n",
      "Epoch 315/500\n",
      "881/881 [==============================] - 0s 3us/step - loss: 0.3702 - acc: 0.8536\n",
      "Epoch 316/500\n",
      "881/881 [==============================] - 0s 3us/step - loss: 0.3640 - acc: 0.8422\n",
      "Epoch 317/500\n",
      "881/881 [==============================] - 0s 3us/step - loss: 0.3592 - acc: 0.8502\n",
      "Epoch 318/500\n",
      "881/881 [==============================] - 0s 3us/step - loss: 0.3580 - acc: 0.8468\n",
      "Epoch 319/500\n",
      "881/881 [==============================] - 0s 3us/step - loss: 0.3600 - acc: 0.8536\n",
      "Epoch 320/500\n",
      "881/881 [==============================] - 0s 3us/step - loss: 0.3487 - acc: 0.8490\n",
      "Epoch 321/500\n",
      "881/881 [==============================] - 0s 3us/step - loss: 0.3486 - acc: 0.8547\n",
      "Epoch 322/500\n",
      "881/881 [==============================] - 0s 3us/step - loss: 0.3534 - acc: 0.8524\n",
      "Epoch 323/500\n",
      "881/881 [==============================] - 0s 3us/step - loss: 0.3610 - acc: 0.8547\n",
      "Epoch 324/500\n",
      "881/881 [==============================] - 0s 3us/step - loss: 0.3658 - acc: 0.8434\n",
      "Epoch 325/500\n",
      "881/881 [==============================] - 0s 3us/step - loss: 0.3529 - acc: 0.8547\n",
      "Epoch 326/500\n",
      "881/881 [==============================] - 0s 3us/step - loss: 0.3686 - acc: 0.8445\n",
      "Epoch 327/500\n",
      "881/881 [==============================] - 0s 3us/step - loss: 0.3567 - acc: 0.8490\n",
      "Epoch 328/500\n",
      "881/881 [==============================] - 0s 3us/step - loss: 0.3607 - acc: 0.8524\n",
      "Epoch 329/500\n",
      "881/881 [==============================] - 0s 3us/step - loss: 0.3577 - acc: 0.8456\n",
      "Epoch 330/500\n",
      "881/881 [==============================] - 0s 3us/step - loss: 0.3557 - acc: 0.8604\n",
      "Epoch 331/500\n",
      "881/881 [==============================] - 0s 3us/step - loss: 0.3629 - acc: 0.8547\n",
      "Epoch 332/500\n",
      "881/881 [==============================] - 0s 3us/step - loss: 0.3638 - acc: 0.8502\n",
      "Epoch 333/500\n",
      "881/881 [==============================] - 0s 3us/step - loss: 0.3611 - acc: 0.8581\n",
      "Epoch 334/500\n",
      "881/881 [==============================] - 0s 3us/step - loss: 0.3554 - acc: 0.8388\n",
      "Epoch 335/500\n",
      "881/881 [==============================] - 0s 3us/step - loss: 0.3538 - acc: 0.8547\n",
      "Epoch 336/500\n",
      "881/881 [==============================] - 0s 3us/step - loss: 0.3539 - acc: 0.8524\n",
      "Epoch 337/500\n",
      "881/881 [==============================] - 0s 3us/step - loss: 0.3510 - acc: 0.8638\n"
     ]
    },
    {
     "name": "stdout",
     "output_type": "stream",
     "text": [
      "Epoch 338/500\n",
      "881/881 [==============================] - 0s 3us/step - loss: 0.3538 - acc: 0.8490\n",
      "Epoch 339/500\n",
      "881/881 [==============================] - 0s 3us/step - loss: 0.3587 - acc: 0.8411\n",
      "Epoch 340/500\n",
      "881/881 [==============================] - 0s 3us/step - loss: 0.3511 - acc: 0.8570\n",
      "Epoch 341/500\n",
      "881/881 [==============================] - 0s 3us/step - loss: 0.3633 - acc: 0.8490\n",
      "Epoch 342/500\n",
      "881/881 [==============================] - 0s 3us/step - loss: 0.3551 - acc: 0.8558\n",
      "Epoch 343/500\n",
      "881/881 [==============================] - 0s 3us/step - loss: 0.3570 - acc: 0.8479\n",
      "Epoch 344/500\n",
      "881/881 [==============================] - 0s 3us/step - loss: 0.3536 - acc: 0.8513\n",
      "Epoch 345/500\n",
      "881/881 [==============================] - 0s 3us/step - loss: 0.3495 - acc: 0.8468\n",
      "Epoch 346/500\n",
      "881/881 [==============================] - 0s 3us/step - loss: 0.3480 - acc: 0.8479\n",
      "Epoch 347/500\n",
      "881/881 [==============================] - 0s 3us/step - loss: 0.3625 - acc: 0.8468\n",
      "Epoch 348/500\n",
      "881/881 [==============================] - 0s 3us/step - loss: 0.3438 - acc: 0.8581\n",
      "Epoch 349/500\n",
      "881/881 [==============================] - 0s 3us/step - loss: 0.3556 - acc: 0.8434\n",
      "Epoch 350/500\n",
      "881/881 [==============================] - 0s 3us/step - loss: 0.3646 - acc: 0.8445\n",
      "Epoch 351/500\n",
      "881/881 [==============================] - 0s 3us/step - loss: 0.3574 - acc: 0.8479\n",
      "Epoch 352/500\n",
      "881/881 [==============================] - 0s 3us/step - loss: 0.3497 - acc: 0.8536\n",
      "Epoch 353/500\n",
      "881/881 [==============================] - 0s 3us/step - loss: 0.3459 - acc: 0.8547\n",
      "Epoch 354/500\n",
      "881/881 [==============================] - 0s 3us/step - loss: 0.3560 - acc: 0.8479\n",
      "Epoch 355/500\n",
      "881/881 [==============================] - 0s 3us/step - loss: 0.3548 - acc: 0.8468\n",
      "Epoch 356/500\n",
      "881/881 [==============================] - 0s 3us/step - loss: 0.3489 - acc: 0.8604\n",
      "Epoch 357/500\n",
      "881/881 [==============================] - 0s 3us/step - loss: 0.3442 - acc: 0.8547\n",
      "Epoch 358/500\n",
      "881/881 [==============================] - 0s 3us/step - loss: 0.3515 - acc: 0.8536\n",
      "Epoch 359/500\n",
      "881/881 [==============================] - 0s 3us/step - loss: 0.3642 - acc: 0.8524\n",
      "Epoch 360/500\n",
      "881/881 [==============================] - 0s 3us/step - loss: 0.3559 - acc: 0.8445\n",
      "Epoch 361/500\n",
      "881/881 [==============================] - 0s 2us/step - loss: 0.3494 - acc: 0.8536\n",
      "Epoch 362/500\n",
      "881/881 [==============================] - 0s 3us/step - loss: 0.3481 - acc: 0.8422\n",
      "Epoch 363/500\n",
      "881/881 [==============================] - 0s 3us/step - loss: 0.3486 - acc: 0.8536\n",
      "Epoch 364/500\n",
      "881/881 [==============================] - 0s 3us/step - loss: 0.3583 - acc: 0.8490\n",
      "Epoch 365/500\n",
      "881/881 [==============================] - 0s 3us/step - loss: 0.3521 - acc: 0.8593\n",
      "Epoch 366/500\n",
      "881/881 [==============================] - 0s 2us/step - loss: 0.3450 - acc: 0.8547\n",
      "Epoch 367/500\n",
      "881/881 [==============================] - 0s 3us/step - loss: 0.3544 - acc: 0.8524\n",
      "Epoch 368/500\n",
      "881/881 [==============================] - 0s 3us/step - loss: 0.3524 - acc: 0.8661\n",
      "Epoch 369/500\n",
      "881/881 [==============================] - 0s 3us/step - loss: 0.3499 - acc: 0.8593\n",
      "Epoch 370/500\n",
      "881/881 [==============================] - 0s 3us/step - loss: 0.3500 - acc: 0.8502\n",
      "Epoch 371/500\n",
      "881/881 [==============================] - 0s 3us/step - loss: 0.3552 - acc: 0.8547\n",
      "Epoch 372/500\n",
      "881/881 [==============================] - 0s 3us/step - loss: 0.3511 - acc: 0.8513\n",
      "Epoch 373/500\n",
      "881/881 [==============================] - 0s 3us/step - loss: 0.3482 - acc: 0.8513\n",
      "Epoch 374/500\n",
      "881/881 [==============================] - 0s 3us/step - loss: 0.3517 - acc: 0.8445\n",
      "Epoch 375/500\n",
      "881/881 [==============================] - 0s 3us/step - loss: 0.3544 - acc: 0.8434\n",
      "Epoch 376/500\n",
      "881/881 [==============================] - 0s 3us/step - loss: 0.3508 - acc: 0.8490\n",
      "Epoch 377/500\n",
      "881/881 [==============================] - 0s 3us/step - loss: 0.3550 - acc: 0.8502\n",
      "Epoch 378/500\n",
      "881/881 [==============================] - 0s 3us/step - loss: 0.3375 - acc: 0.8581\n",
      "Epoch 379/500\n",
      "881/881 [==============================] - 0s 3us/step - loss: 0.3527 - acc: 0.8558\n",
      "Epoch 380/500\n",
      "881/881 [==============================] - 0s 3us/step - loss: 0.3415 - acc: 0.8672\n",
      "Epoch 381/500\n",
      "881/881 [==============================] - 0s 3us/step - loss: 0.3414 - acc: 0.8638\n",
      "Epoch 382/500\n",
      "881/881 [==============================] - 0s 3us/step - loss: 0.3513 - acc: 0.8524\n",
      "Epoch 383/500\n",
      "881/881 [==============================] - 0s 3us/step - loss: 0.3391 - acc: 0.8536\n",
      "Epoch 384/500\n",
      "881/881 [==============================] - 0s 3us/step - loss: 0.3565 - acc: 0.8547\n",
      "Epoch 385/500\n",
      "881/881 [==============================] - 0s 3us/step - loss: 0.3585 - acc: 0.8434\n",
      "Epoch 386/500\n",
      "881/881 [==============================] - 0s 3us/step - loss: 0.3435 - acc: 0.8468\n",
      "Epoch 387/500\n",
      "881/881 [==============================] - 0s 3us/step - loss: 0.3478 - acc: 0.8604\n",
      "Epoch 388/500\n",
      "881/881 [==============================] - 0s 3us/step - loss: 0.3381 - acc: 0.8593\n",
      "Epoch 389/500\n",
      "881/881 [==============================] - 0s 3us/step - loss: 0.3464 - acc: 0.8513\n",
      "Epoch 390/500\n",
      "881/881 [==============================] - 0s 3us/step - loss: 0.3441 - acc: 0.8593\n",
      "Epoch 391/500\n",
      "881/881 [==============================] - 0s 3us/step - loss: 0.3485 - acc: 0.8547\n",
      "Epoch 392/500\n",
      "881/881 [==============================] - 0s 3us/step - loss: 0.3543 - acc: 0.8468\n",
      "Epoch 393/500\n",
      "881/881 [==============================] - 0s 3us/step - loss: 0.3451 - acc: 0.8490\n",
      "Epoch 394/500\n",
      "881/881 [==============================] - 0s 3us/step - loss: 0.3418 - acc: 0.8638\n",
      "Epoch 395/500\n",
      "881/881 [==============================] - 0s 3us/step - loss: 0.3431 - acc: 0.8581\n",
      "Epoch 396/500\n",
      "881/881 [==============================] - 0s 3us/step - loss: 0.3447 - acc: 0.8536\n",
      "Epoch 397/500\n",
      "881/881 [==============================] - 0s 3us/step - loss: 0.3508 - acc: 0.8581\n",
      "Epoch 398/500\n",
      "881/881 [==============================] - 0s 3us/step - loss: 0.3328 - acc: 0.8581\n",
      "Epoch 399/500\n",
      "881/881 [==============================] - 0s 3us/step - loss: 0.3490 - acc: 0.8558\n",
      "Epoch 400/500\n",
      "881/881 [==============================] - 0s 3us/step - loss: 0.3445 - acc: 0.8593\n",
      "Epoch 401/500\n",
      "881/881 [==============================] - 0s 3us/step - loss: 0.3520 - acc: 0.8638\n",
      "Epoch 402/500\n",
      "881/881 [==============================] - 0s 3us/step - loss: 0.3336 - acc: 0.8581\n",
      "Epoch 403/500\n",
      "881/881 [==============================] - 0s 3us/step - loss: 0.3442 - acc: 0.8581\n",
      "Epoch 404/500\n",
      "881/881 [==============================] - 0s 3us/step - loss: 0.3393 - acc: 0.8502\n",
      "Epoch 405/500\n",
      "881/881 [==============================] - 0s 3us/step - loss: 0.3414 - acc: 0.8649\n",
      "Epoch 406/500\n",
      "881/881 [==============================] - 0s 3us/step - loss: 0.3422 - acc: 0.8502\n",
      "Epoch 407/500\n",
      "881/881 [==============================] - 0s 3us/step - loss: 0.3419 - acc: 0.8524\n",
      "Epoch 408/500\n",
      "881/881 [==============================] - 0s 3us/step - loss: 0.3475 - acc: 0.8547\n",
      "Epoch 409/500\n",
      "881/881 [==============================] - 0s 3us/step - loss: 0.3498 - acc: 0.8558\n",
      "Epoch 410/500\n",
      "881/881 [==============================] - 0s 3us/step - loss: 0.3467 - acc: 0.8558\n",
      "Epoch 411/500\n",
      "881/881 [==============================] - 0s 3us/step - loss: 0.3469 - acc: 0.8570\n",
      "Epoch 412/500\n",
      "881/881 [==============================] - 0s 3us/step - loss: 0.3459 - acc: 0.8581\n",
      "Epoch 413/500\n",
      "881/881 [==============================] - 0s 3us/step - loss: 0.3517 - acc: 0.8400\n",
      "Epoch 414/500\n",
      "881/881 [==============================] - 0s 4us/step - loss: 0.3405 - acc: 0.8627\n",
      "Epoch 415/500\n",
      "881/881 [==============================] - 0s 2us/step - loss: 0.3426 - acc: 0.8558\n",
      "Epoch 416/500\n",
      "881/881 [==============================] - 0s 2us/step - loss: 0.3483 - acc: 0.8570\n",
      "Epoch 417/500\n",
      "881/881 [==============================] - 0s 3us/step - loss: 0.3465 - acc: 0.8627\n",
      "Epoch 418/500\n",
      "881/881 [==============================] - 0s 3us/step - loss: 0.3413 - acc: 0.8536\n",
      "Epoch 419/500\n",
      "881/881 [==============================] - 0s 3us/step - loss: 0.3474 - acc: 0.8581\n",
      "Epoch 420/500\n",
      "881/881 [==============================] - 0s 3us/step - loss: 0.3443 - acc: 0.8615\n",
      "Epoch 421/500\n",
      "881/881 [==============================] - 0s 3us/step - loss: 0.3449 - acc: 0.8490\n"
     ]
    },
    {
     "name": "stdout",
     "output_type": "stream",
     "text": [
      "Epoch 422/500\n",
      "881/881 [==============================] - 0s 2us/step - loss: 0.3418 - acc: 0.8615\n",
      "Epoch 423/500\n",
      "881/881 [==============================] - 0s 3us/step - loss: 0.3335 - acc: 0.8706\n",
      "Epoch 424/500\n",
      "881/881 [==============================] - 0s 3us/step - loss: 0.3392 - acc: 0.8604\n",
      "Epoch 425/500\n",
      "881/881 [==============================] - 0s 3us/step - loss: 0.3403 - acc: 0.8615\n",
      "Epoch 426/500\n",
      "881/881 [==============================] - 0s 3us/step - loss: 0.3490 - acc: 0.8502\n",
      "Epoch 427/500\n",
      "881/881 [==============================] - 0s 3us/step - loss: 0.3430 - acc: 0.8672\n",
      "Epoch 428/500\n",
      "881/881 [==============================] - 0s 3us/step - loss: 0.3517 - acc: 0.8593\n",
      "Epoch 429/500\n",
      "881/881 [==============================] - 0s 3us/step - loss: 0.3401 - acc: 0.8524\n",
      "Epoch 430/500\n",
      "881/881 [==============================] - 0s 3us/step - loss: 0.3352 - acc: 0.8627\n",
      "Epoch 431/500\n",
      "881/881 [==============================] - 0s 3us/step - loss: 0.3442 - acc: 0.8570\n",
      "Epoch 432/500\n",
      "881/881 [==============================] - 0s 3us/step - loss: 0.3374 - acc: 0.8490\n",
      "Epoch 433/500\n",
      "881/881 [==============================] - 0s 3us/step - loss: 0.3331 - acc: 0.8593\n",
      "Epoch 434/500\n",
      "881/881 [==============================] - 0s 2us/step - loss: 0.3420 - acc: 0.8615\n",
      "Epoch 435/500\n",
      "881/881 [==============================] - 0s 2us/step - loss: 0.3372 - acc: 0.8604\n",
      "Epoch 436/500\n",
      "881/881 [==============================] - 0s 2us/step - loss: 0.3396 - acc: 0.8593\n",
      "Epoch 437/500\n",
      "881/881 [==============================] - 0s 2us/step - loss: 0.3309 - acc: 0.8593\n",
      "Epoch 438/500\n",
      "881/881 [==============================] - 0s 3us/step - loss: 0.3416 - acc: 0.8536\n",
      "Epoch 439/500\n",
      "881/881 [==============================] - 0s 3us/step - loss: 0.3409 - acc: 0.8740\n",
      "Epoch 440/500\n",
      "881/881 [==============================] - 0s 4us/step - loss: 0.3395 - acc: 0.8570\n",
      "Epoch 441/500\n",
      "881/881 [==============================] - 0s 3us/step - loss: 0.3406 - acc: 0.8627\n",
      "Epoch 442/500\n",
      "881/881 [==============================] - 0s 3us/step - loss: 0.3456 - acc: 0.8502\n",
      "Epoch 443/500\n",
      "881/881 [==============================] - 0s 3us/step - loss: 0.3410 - acc: 0.8581\n",
      "Epoch 444/500\n",
      "881/881 [==============================] - 0s 3us/step - loss: 0.3303 - acc: 0.8604\n",
      "Epoch 445/500\n",
      "881/881 [==============================] - 0s 3us/step - loss: 0.3312 - acc: 0.8672\n",
      "Epoch 446/500\n",
      "881/881 [==============================] - 0s 3us/step - loss: 0.3439 - acc: 0.8502\n",
      "Epoch 447/500\n",
      "881/881 [==============================] - 0s 4us/step - loss: 0.3472 - acc: 0.8434\n",
      "Epoch 448/500\n",
      "881/881 [==============================] - 0s 3us/step - loss: 0.3447 - acc: 0.8547\n",
      "Epoch 449/500\n",
      "881/881 [==============================] - 0s 3us/step - loss: 0.3321 - acc: 0.8593\n",
      "Epoch 450/500\n",
      "881/881 [==============================] - 0s 3us/step - loss: 0.3441 - acc: 0.8627\n",
      "Epoch 451/500\n",
      "881/881 [==============================] - 0s 3us/step - loss: 0.3380 - acc: 0.8536\n",
      "Epoch 452/500\n",
      "881/881 [==============================] - 0s 7us/step - loss: 0.3370 - acc: 0.8615\n",
      "Epoch 453/500\n",
      "881/881 [==============================] - 0s 3us/step - loss: 0.3396 - acc: 0.8581\n",
      "Epoch 454/500\n",
      "881/881 [==============================] - 0s 3us/step - loss: 0.3422 - acc: 0.8627\n",
      "Epoch 455/500\n",
      "881/881 [==============================] - 0s 3us/step - loss: 0.3353 - acc: 0.8570\n",
      "Epoch 456/500\n",
      "881/881 [==============================] - 0s 4us/step - loss: 0.3429 - acc: 0.8593\n",
      "Epoch 457/500\n",
      "881/881 [==============================] - 0s 3us/step - loss: 0.3457 - acc: 0.8490\n",
      "Epoch 458/500\n",
      "881/881 [==============================] - 0s 3us/step - loss: 0.3298 - acc: 0.8695\n",
      "Epoch 459/500\n",
      "881/881 [==============================] - 0s 2us/step - loss: 0.3315 - acc: 0.8638\n",
      "Epoch 460/500\n",
      "881/881 [==============================] - 0s 4us/step - loss: 0.3363 - acc: 0.8558\n",
      "Epoch 461/500\n",
      "881/881 [==============================] - 0s 2us/step - loss: 0.3402 - acc: 0.8638\n",
      "Epoch 462/500\n",
      "881/881 [==============================] - 0s 2us/step - loss: 0.3355 - acc: 0.8615\n",
      "Epoch 463/500\n",
      "881/881 [==============================] - 0s 2us/step - loss: 0.3420 - acc: 0.8615\n",
      "Epoch 464/500\n",
      "881/881 [==============================] - 0s 3us/step - loss: 0.3305 - acc: 0.8547\n",
      "Epoch 465/500\n",
      "881/881 [==============================] - 0s 3us/step - loss: 0.3295 - acc: 0.8604\n",
      "Epoch 466/500\n",
      "881/881 [==============================] - 0s 4us/step - loss: 0.3361 - acc: 0.8536\n",
      "Epoch 467/500\n",
      "881/881 [==============================] - 0s 4us/step - loss: 0.3358 - acc: 0.8524\n",
      "Epoch 468/500\n",
      "881/881 [==============================] - 0s 3us/step - loss: 0.3299 - acc: 0.8581\n",
      "Epoch 469/500\n",
      "881/881 [==============================] - 0s 3us/step - loss: 0.3371 - acc: 0.8502\n",
      "Epoch 470/500\n",
      "881/881 [==============================] - 0s 3us/step - loss: 0.3287 - acc: 0.8672\n",
      "Epoch 471/500\n",
      "881/881 [==============================] - 0s 3us/step - loss: 0.3417 - acc: 0.8502\n",
      "Epoch 472/500\n",
      "881/881 [==============================] - 0s 3us/step - loss: 0.3345 - acc: 0.8615\n",
      "Epoch 473/500\n",
      "881/881 [==============================] - 0s 4us/step - loss: 0.3332 - acc: 0.8570\n",
      "Epoch 474/500\n",
      "881/881 [==============================] - 0s 3us/step - loss: 0.3351 - acc: 0.8615\n",
      "Epoch 475/500\n",
      "881/881 [==============================] - 0s 3us/step - loss: 0.3310 - acc: 0.8524\n",
      "Epoch 476/500\n",
      "881/881 [==============================] - 0s 3us/step - loss: 0.3377 - acc: 0.8581\n",
      "Epoch 477/500\n",
      "881/881 [==============================] - 0s 3us/step - loss: 0.3375 - acc: 0.8661\n",
      "Epoch 478/500\n",
      "881/881 [==============================] - 0s 3us/step - loss: 0.3281 - acc: 0.8593\n",
      "Epoch 479/500\n",
      "881/881 [==============================] - 0s 4us/step - loss: 0.3349 - acc: 0.8615\n",
      "Epoch 480/500\n",
      "881/881 [==============================] - 0s 3us/step - loss: 0.3282 - acc: 0.8615\n",
      "Epoch 481/500\n",
      "881/881 [==============================] - 0s 3us/step - loss: 0.3269 - acc: 0.8581\n",
      "Epoch 482/500\n",
      "881/881 [==============================] - 0s 3us/step - loss: 0.3411 - acc: 0.8547\n",
      "Epoch 483/500\n",
      "881/881 [==============================] - 0s 2us/step - loss: 0.3326 - acc: 0.8615\n",
      "Epoch 484/500\n",
      "881/881 [==============================] - 0s 3us/step - loss: 0.3238 - acc: 0.8706\n",
      "Epoch 485/500\n",
      "881/881 [==============================] - 0s 2us/step - loss: 0.3427 - acc: 0.8547\n",
      "Epoch 486/500\n",
      "881/881 [==============================] - 0s 4us/step - loss: 0.3344 - acc: 0.8604\n",
      "Epoch 487/500\n",
      "881/881 [==============================] - 0s 3us/step - loss: 0.3310 - acc: 0.8729\n",
      "Epoch 488/500\n",
      "881/881 [==============================] - 0s 3us/step - loss: 0.3293 - acc: 0.8581\n",
      "Epoch 489/500\n",
      "881/881 [==============================] - 0s 3us/step - loss: 0.3406 - acc: 0.8434\n",
      "Epoch 490/500\n",
      "881/881 [==============================] - 0s 3us/step - loss: 0.3352 - acc: 0.8547\n",
      "Epoch 491/500\n",
      "881/881 [==============================] - 0s 3us/step - loss: 0.3328 - acc: 0.8570\n",
      "Epoch 492/500\n",
      "881/881 [==============================] - 0s 2us/step - loss: 0.3278 - acc: 0.8593\n",
      "Epoch 493/500\n",
      "881/881 [==============================] - 0s 2us/step - loss: 0.3274 - acc: 0.8729\n",
      "Epoch 494/500\n",
      "881/881 [==============================] - 0s 3us/step - loss: 0.3220 - acc: 0.8615\n",
      "Epoch 495/500\n",
      "881/881 [==============================] - 0s 2us/step - loss: 0.3348 - acc: 0.8661\n",
      "Epoch 496/500\n",
      "881/881 [==============================] - 0s 3us/step - loss: 0.3241 - acc: 0.8593\n",
      "Epoch 497/500\n",
      "881/881 [==============================] - 0s 4us/step - loss: 0.3288 - acc: 0.8627\n",
      "Epoch 498/500\n",
      "881/881 [==============================] - 0s 3us/step - loss: 0.3401 - acc: 0.8547\n",
      "Epoch 499/500\n",
      "881/881 [==============================] - 0s 3us/step - loss: 0.3294 - acc: 0.8627\n",
      "Epoch 500/500\n",
      "881/881 [==============================] - 0s 3us/step - loss: 0.3212 - acc: 0.8604\n",
      "881/881 [==============================] - 0s 37us/step\n",
      "train acc:  0.8694665153911517\n"
     ]
    }
   ],
   "source": [
    "from keras.models import Sequential\n",
    "from keras.layers import Dense, Activation, Dropout\n",
    "\n",
    "nn = Sequential([\n",
    "    Dense(128, activation='relu', input_dim=X_train.shape[1]),\n",
    "    Dropout(.5),\n",
    "#    Dense(128, activation='relu'),\n",
    "#    Dropout(.5),\n",
    "    Dense(1, activation='sigmoid')\n",
    "])\n",
    "\n",
    "nn.compile(optimizer='adam', loss='binary_crossentropy', metrics=['accuracy'])\n",
    "nn.fit(X_train, Y_train, epochs=500, batch_size=X_train.shape[0])\n",
    "\n",
    "score_train_nn = nn.evaluate(X_train, Y_train)[1]\n",
    "#score_val_nn = nn.evaluate(X_val_imputed, y_val)[1]\n",
    "y_pred_nn = nn.predict(test)\n",
    "y_pred_nn = [1 if x > 0.5 else 0 for x in y_pred_nn]\n",
    "\n",
    "print(\"train acc: \", score_train_nn)\n",
    "#print(\"val acc: \", score_val_nn)"
   ]
  },
  {
   "cell_type": "code",
   "execution_count": 68,
   "metadata": {},
   "outputs": [
    {
     "name": "stdout",
     "output_type": "stream",
     "text": [
      "train acc:  0.9023836549375709\n"
     ]
    }
   ],
   "source": [
    "from xgboost import XGBClassifier\n",
    "\n",
    "xgbr = XGBClassifier(max_depth=3, n_estimators=300, learning_rate=0.05)\n",
    "xgbr.fit(X_train, Y_train)\n",
    "score_train_xgbr = xgbr.score(X_train, Y_train)\n",
    "#score_val_xgbr = xgbr.score(X_val_imputed, y_val)\n",
    "y_pred_xgbr = xgbr.predict(test)\n",
    "\n",
    "print(\"train acc: \", score_train_xgbr)\n",
    "#print(\"val acc: \", score_val_xgbr)"
   ]
  },
  {
   "cell_type": "code",
   "execution_count": 69,
   "metadata": {},
   "outputs": [],
   "source": [
    "submission = pd.DataFrame({\n",
    "        \"PassengerId\": IDtest,\n",
    "        \"Survived\": y_pred_xgbr\n",
    "    })\n",
    "submission.to_csv('submission.csv', index=False)"
   ]
  },
  {
   "cell_type": "code",
   "execution_count": null,
   "metadata": {},
   "outputs": [],
   "source": []
  },
  {
   "cell_type": "code",
   "execution_count": null,
   "metadata": {},
   "outputs": [],
   "source": []
  },
  {
   "cell_type": "code",
   "execution_count": null,
   "metadata": {},
   "outputs": [],
   "source": []
  },
  {
   "cell_type": "code",
   "execution_count": null,
   "metadata": {},
   "outputs": [],
   "source": [
    "kfold = StratifiedKFold(n_splits=10)"
   ]
  },
  {
   "cell_type": "code",
   "execution_count": null,
   "metadata": {},
   "outputs": [],
   "source": [
    "random_state = 2\n",
    "classifiers = []\n",
    "classifiers.append(SVC(random_state=random_state))\n",
    "classifiers.append(DecisionTreeClassifier(random_state=random_state))\n",
    "classifiers.append(AdaBoostClassifier(DecisionTreeClassifier(random_state=random_state),random_state=random_state,learning_rate=0.1))\n",
    "classifiers.append(RandomForestClassifier(random_state=random_state))\n",
    "classifiers.append(ExtraTreesClassifier(random_state=random_state))\n",
    "classifiers.append(GradientBoostingClassifier(random_state=random_state))\n",
    "classifiers.append(MLPClassifier(random_state=random_state))\n",
    "classifiers.append(KNeighborsClassifier())\n",
    "classifiers.append(LogisticRegression(random_state = random_state))\n",
    "classifiers.append(LinearDiscriminantAnalysis())\n",
    "\n",
    "cv_results = []\n",
    "for classifier in classifiers :\n",
    "    cv_results.append(cross_val_score(classifier, X_train, y = Y_train, scoring = \"accuracy\", cv = kfold, n_jobs=4))\n",
    "\n",
    "cv_means = []\n",
    "cv_std = []\n",
    "for cv_result in cv_results:\n",
    "    cv_means.append(cv_result.mean())\n",
    "    cv_std.append(cv_result.std())\n",
    "\n",
    "cv_res = pd.DataFrame({\"CrossValMeans\":cv_means,\"CrossValerrors\": cv_std,\"Algorithm\":[\"SVC\",\"DecisionTree\",\"AdaBoost\",\n",
    "\"RandomForest\",\"ExtraTrees\",\"GradientBoosting\",\"MultipleLayerPerceptron\",\"KNeighboors\",\"LogisticRegression\",\"LinearDiscriminantAnalysis\"]})\n",
    "\n",
    "g = sns.barplot(\"CrossValMeans\",\"Algorithm\",data = cv_res, palette=\"Set3\",orient = \"h\",**{'xerr':cv_std})\n",
    "g.set_xlabel(\"Mean Accuracy\")\n",
    "g = g.set_title(\"Cross validation scores\")"
   ]
  },
  {
   "cell_type": "code",
   "execution_count": null,
   "metadata": {},
   "outputs": [],
   "source": [
    "DTC = DecisionTreeClassifier()\n",
    "\n",
    "adaDTC = AdaBoostClassifier(DTC, random_state=7)\n",
    "\n",
    "ada_param_grid = {\"base_estimator__criterion\" : [\"gini\", \"entropy\"],\n",
    "              \"base_estimator__splitter\" :   [\"best\", \"random\"],\n",
    "              \"algorithm\" : [\"SAMME\",\"SAMME.R\"],\n",
    "              \"n_estimators\" :[1,2],\n",
    "              \"learning_rate\":  [0.0001, 0.001, 0.01, 0.1, 0.2, 0.3,1.5]}\n",
    "\n",
    "gsadaDTC = GridSearchCV(adaDTC,param_grid = ada_param_grid, cv=kfold, scoring=\"accuracy\", n_jobs= 4, verbose = 1)\n",
    "\n",
    "gsadaDTC.fit(X_train,Y_train)\n",
    "\n",
    "ada_best = gsadaDTC.best_estimator_"
   ]
  },
  {
   "cell_type": "code",
   "execution_count": null,
   "metadata": {},
   "outputs": [],
   "source": [
    "gsadaDTC.best_score_"
   ]
  },
  {
   "cell_type": "code",
   "execution_count": null,
   "metadata": {},
   "outputs": [],
   "source": [
    "ExtC = ExtraTreesClassifier()\n",
    "\n",
    "\n",
    "## Search grid for optimal parameters\n",
    "ex_param_grid = {\"max_depth\": [None],\n",
    "              \"max_features\": [1, 3, 10],\n",
    "              \"min_samples_split\": [2, 3, 10],\n",
    "              \"min_samples_leaf\": [1, 3, 10],\n",
    "              \"bootstrap\": [False],\n",
    "              \"n_estimators\" :[100,300],\n",
    "              \"criterion\": [\"gini\"]}\n",
    "\n",
    "\n",
    "gsExtC = GridSearchCV(ExtC,param_grid = ex_param_grid, cv=kfold, scoring=\"accuracy\", n_jobs= 4, verbose = 1)\n",
    "\n",
    "gsExtC.fit(X_train,Y_train)\n",
    "\n",
    "ExtC_best = gsExtC.best_estimator_\n",
    "\n",
    "# Best score\n",
    "gsExtC.best_score_"
   ]
  },
  {
   "cell_type": "code",
   "execution_count": null,
   "metadata": {},
   "outputs": [],
   "source": [
    "RFC = RandomForestClassifier()\n",
    "\n",
    "\n",
    "## Search grid for optimal parameters\n",
    "rf_param_grid = {\"max_depth\": [None],\n",
    "              \"max_features\": [1, 3, 10],\n",
    "              \"min_samples_split\": [2, 3, 10],\n",
    "              \"min_samples_leaf\": [1, 3, 10],\n",
    "              \"bootstrap\": [False],\n",
    "              \"n_estimators\" :[100,300],\n",
    "              \"criterion\": [\"gini\"]}\n",
    "\n",
    "\n",
    "gsRFC = GridSearchCV(RFC,param_grid = rf_param_grid, cv=kfold, scoring=\"accuracy\", n_jobs= 4, verbose = 1)\n",
    "\n",
    "gsRFC.fit(X_train,Y_train)\n",
    "\n",
    "RFC_best = gsRFC.best_estimator_\n",
    "\n",
    "# Best score\n",
    "gsRFC.best_score_"
   ]
  },
  {
   "cell_type": "code",
   "execution_count": null,
   "metadata": {},
   "outputs": [],
   "source": [
    "GBC = GradientBoostingClassifier()\n",
    "gb_param_grid = {'loss' : [\"deviance\"],\n",
    "              'n_estimators' : [100,200,300],\n",
    "              'learning_rate': [0.1, 0.05, 0.01],\n",
    "              'max_depth': [4, 8],\n",
    "              'min_samples_leaf': [100,150],\n",
    "              'max_features': [0.3, 0.1] \n",
    "              }\n",
    "\n",
    "gsGBC = GridSearchCV(GBC,param_grid = gb_param_grid, cv=kfold, scoring=\"accuracy\", n_jobs= 4, verbose = 1)\n",
    "\n",
    "gsGBC.fit(X_train,Y_train)\n",
    "\n",
    "GBC_best = gsGBC.best_estimator_\n",
    "\n",
    "# Best score\n",
    "gsGBC.best_score_"
   ]
  },
  {
   "cell_type": "code",
   "execution_count": null,
   "metadata": {},
   "outputs": [],
   "source": [
    "SVMC = SVC(probability=True)\n",
    "svc_param_grid = {'kernel': ['rbf'], \n",
    "                  'gamma': [ 0.001, 0.01, 0.1, 1],\n",
    "                  'C': [1, 10, 50, 100,200,300, 1000]}\n",
    "\n",
    "gsSVMC = GridSearchCV(SVMC,param_grid = svc_param_grid, cv=kfold, scoring=\"accuracy\", n_jobs= 4, verbose = 1)\n",
    "\n",
    "gsSVMC.fit(X_train,Y_train)\n",
    "\n",
    "SVMC_best = gsSVMC.best_estimator_\n",
    "\n",
    "# Best score\n",
    "gsSVMC.best_score_"
   ]
  },
  {
   "cell_type": "code",
   "execution_count": null,
   "metadata": {},
   "outputs": [],
   "source": [
    "def plot_learning_curve(estimator, title, X, y, ylim=None, cv=None,\n",
    "                        n_jobs=-1, train_sizes=np.linspace(.1, 1.0, 5)):\n",
    "    \"\"\"Generate a simple plot of the test and training learning curve\"\"\"\n",
    "    plt.figure()\n",
    "    plt.title(title)\n",
    "    if ylim is not None:\n",
    "        plt.ylim(*ylim)\n",
    "    plt.xlabel(\"Training examples\")\n",
    "    plt.ylabel(\"Score\")\n",
    "    train_sizes, train_scores, test_scores = learning_curve(\n",
    "        estimator, X, y, cv=cv, n_jobs=n_jobs, train_sizes=train_sizes)\n",
    "    train_scores_mean = np.mean(train_scores, axis=1)\n",
    "    train_scores_std = np.std(train_scores, axis=1)\n",
    "    test_scores_mean = np.mean(test_scores, axis=1)\n",
    "    test_scores_std = np.std(test_scores, axis=1)\n",
    "    plt.grid()\n",
    "\n",
    "    plt.fill_between(train_sizes, train_scores_mean - train_scores_std,\n",
    "                     train_scores_mean + train_scores_std, alpha=0.1,\n",
    "                     color=\"r\")\n",
    "    plt.fill_between(train_sizes, test_scores_mean - test_scores_std,\n",
    "                     test_scores_mean + test_scores_std, alpha=0.1, color=\"g\")\n",
    "    plt.plot(train_sizes, train_scores_mean, 'o-', color=\"r\",\n",
    "             label=\"Training score\")\n",
    "    plt.plot(train_sizes, test_scores_mean, 'o-', color=\"g\",\n",
    "             label=\"Cross-validation score\")\n",
    "\n",
    "    plt.legend(loc=\"best\")\n",
    "    return plt\n",
    "\n",
    "g = plot_learning_curve(gsRFC.best_estimator_,\"RF mearning curves\",X_train,Y_train,cv=kfold)\n",
    "g = plot_learning_curve(gsExtC.best_estimator_,\"ExtraTrees learning curves\",X_train,Y_train,cv=kfold)\n",
    "g = plot_learning_curve(gsSVMC.best_estimator_,\"SVC learning curves\",X_train,Y_train,cv=kfold)\n",
    "g = plot_learning_curve(gsadaDTC.best_estimator_,\"AdaBoost learning curves\",X_train,Y_train,cv=kfold)\n",
    "g = plot_learning_curve(gsGBC.best_estimator_,\"GradientBoosting learning curves\",X_train,Y_train,cv=kfold)\n"
   ]
  },
  {
   "cell_type": "code",
   "execution_count": null,
   "metadata": {},
   "outputs": [],
   "source": [
    "nrows = ncols = 2\n",
    "fig, axes = plt.subplots(nrows = nrows, ncols = ncols, sharex=\"all\", figsize=(15,15))\n",
    "\n",
    "names_classifiers = [(\"AdaBoosting\", ada_best),(\"ExtraTrees\",ExtC_best),(\"RandomForest\",RFC_best),(\"GradientBoosting\",GBC_best)]\n",
    "\n",
    "nclassifier = 0\n",
    "for row in range(nrows):\n",
    "    for col in range(ncols):\n",
    "        name = names_classifiers[nclassifier][0]\n",
    "        classifier = names_classifiers[nclassifier][1]\n",
    "        indices = np.argsort(classifier.feature_importances_)[::-1][:40]\n",
    "        g = sns.barplot(y=X_train.columns[indices][:40],x = classifier.feature_importances_[indices][:40] , orient='h',ax=axes[row][col])\n",
    "        g.set_xlabel(\"Relative importance\",fontsize=12)\n",
    "        g.set_ylabel(\"Features\",fontsize=12)\n",
    "        g.tick_params(labelsize=9)\n",
    "        g.set_title(name + \" feature importance\")\n",
    "        nclassifier += 1"
   ]
  },
  {
   "cell_type": "code",
   "execution_count": null,
   "metadata": {},
   "outputs": [],
   "source": [
    "test_Survived_RFC = pd.Series(RFC_best.predict(test), name=\"RFC\")\n",
    "test_Survived_ExtC = pd.Series(ExtC_best.predict(test), name=\"ExtC\")\n",
    "test_Survived_SVMC = pd.Series(SVMC_best.predict(test), name=\"SVC\")\n",
    "test_Survived_AdaC = pd.Series(ada_best.predict(test), name=\"Ada\")\n",
    "test_Survived_GBC = pd.Series(GBC_best.predict(test), name=\"GBC\")\n",
    "\n",
    "\n",
    "# Concatenate all classifier results\n",
    "ensemble_results = pd.concat([test_Survived_RFC,test_Survived_ExtC,test_Survived_AdaC,test_Survived_GBC, test_Survived_SVMC],axis=1)\n",
    "\n",
    "\n",
    "g= sns.heatmap(ensemble_results.corr(),annot=True)"
   ]
  },
  {
   "cell_type": "code",
   "execution_count": null,
   "metadata": {},
   "outputs": [],
   "source": [
    "votingC = VotingClassifier(estimators=[('rfc', RFC_best), ('extc', ExtC_best),\n",
    "('svc', SVMC_best), ('adac',ada_best),('gbc',GBC_best)], voting='soft', n_jobs=4)\n",
    "\n",
    "votingC = votingC.fit(X_train, Y_train)"
   ]
  },
  {
   "cell_type": "code",
   "execution_count": null,
   "metadata": {},
   "outputs": [],
   "source": [
    "test_Survived = pd.Series(votingC.predict(test), name=\"Survived\")\n",
    "\n",
    "results = pd.concat([IDtest,test_Survived],axis=1)\n",
    "\n",
    "results.to_csv(\"submission.csv\",index=False)"
   ]
  },
  {
   "cell_type": "code",
   "execution_count": null,
   "metadata": {},
   "outputs": [],
   "source": []
  },
  {
   "cell_type": "code",
   "execution_count": null,
   "metadata": {},
   "outputs": [],
   "source": []
  },
  {
   "cell_type": "code",
   "execution_count": null,
   "metadata": {},
   "outputs": [],
   "source": []
  }
 ],
 "metadata": {
  "kernelspec": {
   "display_name": "Python 3",
   "language": "python",
   "name": "python3"
  },
  "language_info": {
   "codemirror_mode": {
    "name": "ipython",
    "version": 3
   },
   "file_extension": ".py",
   "mimetype": "text/x-python",
   "name": "python",
   "nbconvert_exporter": "python",
   "pygments_lexer": "ipython3",
   "version": "3.6.8"
  }
 },
 "nbformat": 4,
 "nbformat_minor": 2
}
